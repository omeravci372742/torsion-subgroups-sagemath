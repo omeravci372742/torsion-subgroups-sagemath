{
 "cells": [
  {
   "cell_type": "code",
   "execution_count": 1,
   "id": "f5074935-dfaf-4a5d-8286-74d149777d41",
   "metadata": {},
   "outputs": [],
   "source": [
    "K = CyclotomicField(19) "
   ]
  },
  {
   "cell_type": "code",
   "execution_count": 4,
   "id": "2fda507b-87cc-4bbd-aa2e-98cbd31f7246",
   "metadata": {},
   "outputs": [],
   "source": [
    "E_361a2 = EllipticCurve(K,[0, 0, 1, -38, 90])"
   ]
  },
  {
   "cell_type": "code",
   "execution_count": 5,
   "id": "b6b0c771-03d0-4b5a-a5f3-2f04cd708c75",
   "metadata": {},
   "outputs": [
    {
     "data": {
      "text/plain": [
       "Torsion Subgroup isomorphic to Z/19 associated to the Elliptic Curve defined by y^2 + y = x^3 + (-38)*x + 90 over Cyclotomic Field of order 19 and degree 18"
      ]
     },
     "execution_count": 5,
     "metadata": {},
     "output_type": "execute_result"
    }
   ],
   "source": [
    "E_361a2.torsion_subgroup()"
   ]
  },
  {
   "cell_type": "code",
   "execution_count": null,
   "id": "422a9310-7518-4a7e-9983-04b55f441065",
   "metadata": {},
   "outputs": [],
   "source": []
  }
 ],
 "metadata": {
  "kernelspec": {
   "display_name": "SageMath 10.7.beta5",
   "language": "sage",
   "name": "sagemath"
  },
  "language_info": {
   "codemirror_mode": {
    "name": "ipython",
    "version": 3
   },
   "file_extension": ".py",
   "mimetype": "text/x-python",
   "name": "python",
   "nbconvert_exporter": "python",
   "pygments_lexer": "ipython3",
   "version": "3.12.5"
  }
 },
 "nbformat": 4,
 "nbformat_minor": 5
}
