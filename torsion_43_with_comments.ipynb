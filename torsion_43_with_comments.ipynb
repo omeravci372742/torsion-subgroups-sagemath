{
 "cells": [
  {
   "cell_type": "code",
   "execution_count": 1,
   "id": "6b0a5e6d-e8d4-4f29-9581-519865f57c5f",
   "metadata": {},
   "outputs": [],
   "source": [
    "# ─────────────────────────────────────────────────────────────────────────────\n",
    "# We study the unique rational j-invariant admitting a 43-isogeny, and we work \n",
    "# with its minimal quadratic twist.\n",
    "\n",
    "# Our goal is to show that the field of definition of the 43-isogeny is a subfield \n",
    "# of Q(zeta_43), the 43rd cyclotomic field.\n",
    "\n",
    "# To do this, we factor the 43-division polynomial of the elliptic curve over Q(zeta_43).\n",
    "\n",
    "# If this polynomial has a root in Q(zeta_43), then the x-coordinate of a generator \n",
    "# of the kernel of the 43-isogeny is defined over this field.\n",
    "\n",
    "# Once we find such a root, we compute the corresponding y-coordinate on the curve, \n",
    "# construct the point, and verify its order — for completeness.\n",
    "# ─────────────────────────────────────────────────────────────────────────────\n"
   ]
  },
  {
   "cell_type": "code",
   "execution_count": 2,
   "id": "00c57a03-64d6-470e-b62b-98fab03a30c5",
   "metadata": {},
   "outputs": [],
   "source": [
    "# We start by factorizing the 43-division polynomial over Q.\n",
    "\n",
    "# We will get two irreducible factors: one of degree 21 and degree 903.\n",
    "\n",
    "# We know that the field of definition of the kernel of the 43-isogeny is Galois\n",
    "# and its Galois group is isomorphic to a subgroup of Z/42Z = (Z/43Z)*\n",
    "\n",
    "# So the minimal polynomial of the x-coordinate of a point generating the 43-isogeny, \n",
    "# has a degree dividing 42. Hence, we must work with degree 21 factor. \n",
    "\n",
    "# We will then factor this degree 21 polynomial over Q(zeta_43) to find roots and continue as before."
   ]
  },
  {
   "cell_type": "code",
   "execution_count": 3,
   "id": "884cc392-2cc7-42f5-b2c0-cda3b22ef2a5",
   "metadata": {},
   "outputs": [
    {
     "name": "stdout",
     "output_type": "stream",
     "text": [
      "Degrees of irreducible factors of the 43-division polynomial over Q:\n",
      "[21, 903]\n",
      "\n",
      "Degree 21 factor polynomial:\n",
      "x^21 - 516*x^20 + 103630*x^19 - 11413877*x^18 + 778748877*x^17 - 33769644166*x^16 + 833870847126*x^15 - 2000870379255*x^14 - 736993488833148*x^13 + 32911276287905125*x^12 - 806581359647557814*x^11 + 12154326008097154232*x^10 - 85488636774415066268*x^9 - 819460437704646376945*x^8 + 33045266965480421066927*x^7 - 507226653143565753994149*x^6 + 4950443683989031839796750*x^5 - 33086781074272853256290845*x^4 + 150403155502593496824039509*x^3 - 438478701575150710615466845*x^2 + 713289815206029706544774271*x - 446076356193311840984630959\n"
     ]
    }
   ],
   "source": [
    "# Define the elliptic curve\n",
    "E = EllipticCurve([0, 0, 1, -860, 9707])\n",
    "\n",
    "# Compute 43-division polynomial over Q\n",
    "psi_43 = E.division_polynomial(43)\n",
    "R.<x> = PolynomialRing(QQ)\n",
    "factors = R(psi_43).factor()\n",
    "\n",
    "# Print degrees of all irreducible factors\n",
    "print(\"Degrees of irreducible factors of the 43-division polynomial over Q:\")\n",
    "degrees = [f.degree() for f, e in factors]\n",
    "print(degrees)\n",
    "\n",
    "# Extract and print the degree 21 factor\n",
    "f21 = [f for f, e in factors if f.degree() == 21][0]\n",
    "print(\"\\nDegree 21 factor polynomial:\")\n",
    "print(f21)"
   ]
  },
  {
   "cell_type": "code",
   "execution_count": 4,
   "id": "15ead9f7-e8d8-491c-a715-0955c1bfaf94",
   "metadata": {},
   "outputs": [
    {
     "name": "stdout",
     "output_type": "stream",
     "text": [
      "Factor degrees over Q(zeta_43):\n",
      "Degree 1\n",
      "Degree 1\n",
      "Degree 1\n",
      "Degree 1\n",
      "Degree 1\n",
      "Degree 1\n",
      "Degree 1\n",
      "Degree 1\n",
      "Degree 1\n",
      "Degree 1\n",
      "Degree 1\n",
      "Degree 1\n",
      "Degree 1\n",
      "Degree 1\n",
      "Degree 1\n",
      "Degree 1\n",
      "Degree 1\n",
      "Degree 1\n",
      "Degree 1\n",
      "Degree 1\n",
      "Degree 1\n",
      "\n",
      "Found x-coordinate of point in kernel: x = -z^40 - 8*z^39 - 14*z^38 - 13*z^37 - 12*z^36 - 15*z^35 - 17*z^34 - 10*z^33 - 3*z^32 - 5*z^31 - 2*z^30 + 6*z^29 + 6*z^28 + z^27 - 4*z^26 - 5*z^25 - 8*z^24 - 16*z^23 - 18*z^22 - 18*z^21 - 16*z^20 - 8*z^19 - 5*z^18 - 4*z^17 + z^16 + 6*z^15 + 6*z^14 - 2*z^13 - 5*z^12 - 3*z^11 - 10*z^10 - 17*z^9 - 15*z^8 - 12*z^7 - 13*z^6 - 14*z^5 - 8*z^4 - z^3 + 18\n",
      "Point on E: (-z^40 - 8*z^39 - 14*z^38 - 13*z^37 - 12*z^36 - 15*z^35 - 17*z^34 - 10*z^33 - 3*z^32 - 5*z^31 - 2*z^30 + 6*z^29 + 6*z^28 + z^27 - 4*z^26 - 5*z^25 - 8*z^24 - 16*z^23 - 18*z^22 - 18*z^21 - 16*z^20 - 8*z^19 - 5*z^18 - 4*z^17 + z^16 + 6*z^15 + 6*z^14 - 2*z^13 - 5*z^12 - 3*z^11 - 10*z^10 - 17*z^9 - 15*z^8 - 12*z^7 - 13*z^6 - 14*z^5 - 8*z^4 - z^3 + 18, 30*z^41 + 115*z^40 + 171*z^39 + 218*z^38 + 264*z^37 + 304*z^36 + 284*z^35 + 222*z^34 + 206*z^33 + 159*z^32 + 52*z^31 + z^28 + 12*z^27 + 70*z^26 + 156*z^25 + 207*z^24 + 250*z^23 + 312*z^22 + 312*z^21 + 250*z^20 + 207*z^19 + 156*z^18 + 70*z^17 + 12*z^16 + z^15 + 52*z^12 + 159*z^11 + 206*z^10 + 222*z^9 + 284*z^8 + 304*z^7 + 264*z^6 + 218*z^5 + 171*z^4 + 115*z^3 + 30*z^2 + 18)\n",
      "Order of the point: 43\n"
     ]
    }
   ],
   "source": [
    "# Define cyclotomic field Q(zeta_43)\n",
    "K.<z> = CyclotomicField(43)\n",
    "RK.<x> = PolynomialRing(K)\n",
    "\n",
    "# Factor degree 21 polynomial over Q(zeta_43)\n",
    "f21_K = RK(f21)\n",
    "factors_over_K = f21_K.factor()\n",
    "\n",
    "print(\"Factor degrees over Q(zeta_43):\")\n",
    "for f, e in factors_over_K:\n",
    "    print(f\"Degree {f.degree()}\")\n",
    "\n",
    "# Find a linear factor to get a root (x-coordinate)\n",
    "linear_factors = [f for f, e in factors_over_K if f.degree() == 1]\n",
    "\n",
    "if not linear_factors:\n",
    "    print(\"No linear factor found over Q(zeta_43).\")\n",
    "else:\n",
    "    x0 = -linear_factors[0][0] / linear_factors[0][1]  # root of linear polynomial f = a*x + b -> -b/a\n",
    "    print(f\"\\nFound x-coordinate of point in kernel: x = {x0}\")\n",
    "\n",
    "    # Elliptic curve coefficients\n",
    "    a1, a2, a3, a4, a6 = E.a1(), E.a2(), E.a3(), E.a4(), E.a6()\n",
    "\n",
    "    # Compute RHS of the Weierstrass equation\n",
    "    rhs = x0^3 + a2*x0^2 + a4*x0 + a6\n",
    "\n",
    "    # Solve quadratic in y: y^2 + a1*x*y + a3*y = rhs\n",
    "    S.<y> = PolynomialRing(K)\n",
    "    quadratic = y^2 + a1*x0*y + a3*y - rhs\n",
    "    y_roots = quadratic.roots(multiplicities=False)\n",
    "\n",
    "    if not y_roots:\n",
    "        print(\"No y-coordinate found corresponding to x.\")\n",
    "    else:\n",
    "        y0 = y_roots[0]\n",
    "        P = E(K)([x0, y0])\n",
    "        print(f\"Point on E: ({x0}, {y0})\")\n",
    "\n",
    "        # Verify the order of the point\n",
    "        order = P.order()\n",
    "        print(f\"Order of the point: {order}\")"
   ]
  },
  {
   "cell_type": "code",
   "execution_count": 5,
   "id": "fdd202ba-927d-457d-9184-603f92d8defa",
   "metadata": {},
   "outputs": [],
   "source": [
    "# We can see that 43-torsion is contained in E(Q(zeta_43))tors\n",
    "# This implies that E(Q(zeta_43))tors = Z/43Z must hold."
   ]
  },
  {
   "cell_type": "code",
   "execution_count": null,
   "id": "6ed02892-fbf9-4c0d-8b76-c4d921f6dc58",
   "metadata": {},
   "outputs": [],
   "source": []
  }
 ],
 "metadata": {
  "kernelspec": {
   "display_name": "SageMath 10.7.beta5",
   "language": "sage",
   "name": "sagemath"
  },
  "language_info": {
   "codemirror_mode": {
    "name": "ipython",
    "version": 3
   },
   "file_extension": ".py",
   "mimetype": "text/x-python",
   "name": "python",
   "nbconvert_exporter": "python",
   "pygments_lexer": "ipython3",
   "version": "3.12.5"
  }
 },
 "nbformat": 4,
 "nbformat_minor": 5
}
