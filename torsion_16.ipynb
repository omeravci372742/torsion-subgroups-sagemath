{
 "cells": [
  {
   "cell_type": "code",
   "execution_count": 1,
   "id": "cf4b424d-6af4-4441-a89d-74aa322200ee",
   "metadata": {},
   "outputs": [],
   "source": [
    "E_266910ck6 = EllipticCurve([1, 0, 0, -8184310140, 326543733507600])\n",
    "E = E_266910ck6"
   ]
  },
  {
   "cell_type": "code",
   "execution_count": 4,
   "id": "b99613c2-4d2e-4bdd-b542-cef579fdb2ef",
   "metadata": {},
   "outputs": [],
   "source": [
    "R.<x> = QQ[]\n",
    "f = x^2 - 41\n",
    "K.<a> = f.splitting_field()"
   ]
  },
  {
   "cell_type": "code",
   "execution_count": 7,
   "id": "882adef2-bfff-43d5-b780-9e9c8e495352",
   "metadata": {},
   "outputs": [],
   "source": [
    "E = EllipticCurve(K,[1, 0, 0, -8184310140, 326543733507600])"
   ]
  },
  {
   "cell_type": "code",
   "execution_count": 8,
   "id": "2f66e014-1065-4948-bc78-86a5438109cd",
   "metadata": {},
   "outputs": [
    {
     "data": {
      "text/plain": [
       "Torsion Subgroup isomorphic to Z/16 associated to the Elliptic Curve defined by y^2 + x*y = x^3 + (-8184310140)*x + 326543733507600 over Number Field in a with defining polynomial x^2 - 41"
      ]
     },
     "execution_count": 8,
     "metadata": {},
     "output_type": "execute_result"
    }
   ],
   "source": [
    "E.torsion_subgroup()"
   ]
  }
 ],
 "metadata": {
  "kernelspec": {
   "display_name": "SageMath 10.7.beta5",
   "language": "sage",
   "name": "sagemath"
  },
  "language_info": {
   "codemirror_mode": {
    "name": "ipython",
    "version": 3
   },
   "file_extension": ".py",
   "mimetype": "text/x-python",
   "name": "python",
   "nbconvert_exporter": "python",
   "pygments_lexer": "ipython3",
   "version": "3.12.5"
  }
 },
 "nbformat": 4,
 "nbformat_minor": 5
}
