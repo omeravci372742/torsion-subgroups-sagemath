{
 "cells": [
  {
   "cell_type": "code",
   "execution_count": 1,
   "id": "bb25eee2-8e8e-4f4f-b2fb-b885c3fc8e33",
   "metadata": {},
   "outputs": [],
   "source": [
    "# We define the elliptic curve `361a2 = [0, 0, 1, -38, 90]` over the cyclotomic field Q(zeta_19) \n",
    "# and compute its torsion subgroup. The result shows that this curve has full Z/19Z-torsion \n",
    "# defined over Q(zeta_19).\n"
   ]
  },
  {
   "cell_type": "code",
   "execution_count": 2,
   "id": "4afd4da7-fb41-4bc3-9894-ec28ae19817a",
   "metadata": {},
   "outputs": [
    {
     "data": {
      "text/plain": [
       "Torsion Subgroup isomorphic to Z/19 associated to the Elliptic Curve defined by y^2 + y = x^3 + (-38)*x + 90 over Cyclotomic Field of order 19 and degree 18"
      ]
     },
     "execution_count": 2,
     "metadata": {},
     "output_type": "execute_result"
    }
   ],
   "source": [
    "# Define the cyclotomic field Q(zeta_19)\n",
    "K = CyclotomicField(19)\n",
    "\n",
    "# Define the elliptic curve 361a2 over K\n",
    "E_361a2 = EllipticCurve(K, [0, 0, 1, -38, 90])\n",
    "E = E_361a2\n",
    "\n",
    "# Compute the torsion subgroup over Q(zeta_19)\n",
    "E.torsion_subgroup()\n"
   ]
  },
  {
   "cell_type": "code",
   "execution_count": null,
   "id": "42355322-a188-4ce9-82fa-481ec781902d",
   "metadata": {},
   "outputs": [],
   "source": []
  }
 ],
 "metadata": {
  "kernelspec": {
   "display_name": "SageMath 10.7.beta5",
   "language": "sage",
   "name": "sagemath"
  },
  "language_info": {
   "codemirror_mode": {
    "name": "ipython",
    "version": 3
   },
   "file_extension": ".py",
   "mimetype": "text/x-python",
   "name": "python",
   "nbconvert_exporter": "python",
   "pygments_lexer": "ipython3",
   "version": "3.12.5"
  }
 },
 "nbformat": 4,
 "nbformat_minor": 5
}
