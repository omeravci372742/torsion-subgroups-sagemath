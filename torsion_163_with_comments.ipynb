{
 "cells": [
  {
   "cell_type": "code",
   "execution_count": 1,
   "id": "71e7846c-d28b-4a27-80e0-f6d65a55c464",
   "metadata": {},
   "outputs": [],
   "source": [
    "# ─────────────────────────────────────────────────────────────────────────────\n",
    "# In this file, we study the minimal quadratic twist of the elliptic curve with the unique rational j-invariant that has\n",
    "# a rational 163-isogeny. \n",
    "# We can calculate the 163-division polynomial but we can not factorize it because it exceeds memory limits\n",
    "# We expect it to factorize over Q into two irreducible components,\n",
    "# one of which has degree 81 and the other 3240.\n",
    "# Moreover, we expect that the degree 81 factor splits linearly in Q(zeta_163)\n",
    "# and the degree 3240 factor splits into 81 many degree 163 polynomials when factored in Q(zeta_163)\n",
    "\n",
    "# We focus on this degree 81 factor, because it must be the minimal \n",
    "# polynomial of the x-coordinate of the points generating the kernel of the \n",
    "# rational 163-isogeny.\n",
    "\n",
    "# Factoring this polynomial over Q(zeta_163) to find roots directly is too \n",
    "# computationally intensive — resulting in memory or time limits being exceeded.\n",
    "\n",
    "# Instead, we provide strong evidence that the polynomial does have a root \n",
    "# in Q(zeta_163), by choosing several primes p ≡ 1 mod 163 and showing that \n",
    "# the polynomial has a root modulo each such prime.\n",
    "# Moreover it will split into 81 many linear factors and 81 many degree 163 factors in each modulo p\n",
    "# we will do this for many primes p ≡ 1 mod 163 to get a stronger sense of correctness\n",
    "\n",
    "# If a polynomial has a root modulo many primes p ≡ 1 mod 163, it is reasonable \n",
    "# to believe that it also has a root in Q(zeta_163), because these primes \n",
    "# splits completely in Q(zeta_163)\n",
    "\n",
    "# By other methods discussed in the paper, we know that the field of definition of the kernel of the 163-isogeny\n",
    "# must be contained in Q(zeta_163).\n",
    "\n",
    "# I am thankful to the anonymous referee for mentioning this methods \n",
    "# ─────────────────────────────────────────────────────────────────────────────"
   ]
  },
  {
   "cell_type": "code",
   "execution_count": 2,
   "id": "25b738c5-a016-47ea-8341-8cebff8c4e99",
   "metadata": {},
   "outputs": [],
   "source": [
    "# Define the elliptic curve\n",
    "E = EllipticCurve([0, 0, 1, -2174420, 1234136692])\n",
    "\n",
    "# Compute the 163-division polynomial\n",
    "psi_163 = E.division_polynomial(163)"
   ]
  },
  {
   "cell_type": "code",
   "execution_count": 3,
   "id": "08fa91a4-a664-42c2-ad08-ae4d4d0f391b",
   "metadata": {},
   "outputs": [
    {
     "name": "stdout",
     "output_type": "stream",
     "text": [
      "First 10 primes ≡ 1 mod 163:\n",
      "[653, 2609, 5869, 6521, 7499, 8803, 9781, 10433, 11411, 13367]\n"
     ]
    }
   ],
   "source": [
    "# Choose several primes p ≡ 1 mod 163\n",
    "l = 163\n",
    "num_primes = 10\n",
    "primes_mod_l = []\n",
    "p = 2\n",
    "while len(primes_mod_l) < num_primes:\n",
    "    if is_prime(p) and p % l == 1:\n",
    "        primes_mod_l.append(p)\n",
    "    p += 1\n",
    "\n",
    "print(f\"First {num_primes} primes ≡ 1 mod {l}:\")\n",
    "print(primes_mod_l)"
   ]
  },
  {
   "cell_type": "code",
   "execution_count": 4,
   "id": "04761810-012c-425d-aed9-3d31ff66a2d0",
   "metadata": {},
   "outputs": [
    {
     "name": "stdout",
     "output_type": "stream",
     "text": [
      "Degrees of irreducible factors of ψ₁₆₃ modulo 653:\n",
      "[1, 1, 1, 1, 1, 1, 1, 1, 1, 1, 1, 1, 1, 1, 1, 1, 1, 1, 1, 1, 1, 1, 1, 1, 1, 1, 1, 1, 1, 1, 1, 1, 1, 1, 1, 1, 1, 1, 1, 1, 1, 1, 1, 1, 1, 1, 1, 1, 1, 1, 1, 1, 1, 1, 1, 1, 1, 1, 1, 1, 1, 1, 1, 1, 1, 1, 1, 1, 1, 1, 1, 1, 1, 1, 1, 1, 1, 1, 1, 1, 1, 163, 163, 163, 163, 163, 163, 163, 163, 163, 163, 163, 163, 163, 163, 163, 163, 163, 163, 163, 163, 163, 163, 163, 163, 163, 163, 163, 163, 163, 163, 163, 163, 163, 163, 163, 163, 163, 163, 163, 163, 163, 163, 163, 163, 163, 163, 163, 163, 163, 163, 163, 163, 163, 163, 163, 163, 163, 163, 163, 163, 163, 163, 163, 163, 163, 163, 163, 163, 163, 163, 163, 163, 163, 163, 163, 163, 163, 163, 163, 163, 163]\n",
      "At p = 653:\n",
      "Number of linear factors (deg 1): 81\n",
      "Number of degree 163 factors   : 81\n"
     ]
    }
   ],
   "source": [
    "# Fix the prime p = 653 (note: 653 ≡ 1 mod 163)\n",
    "p = 653\n",
    "Fp = GF(p)\n",
    "R.<x> = PolynomialRing(Fp)\n",
    "\n",
    "# Reduce the polynomial modulo p\n",
    "psi_mod_p = R(psi_163)\n",
    "\n",
    "# Factor it over Fp\n",
    "factors = psi_mod_p.factor()\n",
    "\n",
    "# Print the degrees of the irreducible factors\n",
    "print(f\"Degrees of irreducible factors of ψ₁₆₃ modulo {p}:\")\n",
    "degrees = [f.degree() for f, e in factors]\n",
    "print(degrees)\n",
    "# Count degrees\n",
    "deg_counts = {}\n",
    "for f, e in factors:\n",
    "    d = f.degree()\n",
    "    deg_counts[d] = deg_counts.get(d, 0) + 1\n",
    "\n",
    "# Print counts for degree 1 and 163\n",
    "print(f\"At p = {p}:\")\n",
    "print(f\"Number of linear factors (deg 1): {deg_counts.get(1, 0)}\")\n",
    "print(f\"Number of degree 163 factors   : {deg_counts.get(163, 0)}\")"
   ]
  },
  {
   "cell_type": "code",
   "execution_count": 5,
   "id": "a9221652-edf3-4362-b1b5-e39873212678",
   "metadata": {},
   "outputs": [
    {
     "name": "stdout",
     "output_type": "stream",
     "text": [
      "Degrees of irreducible factors of ψ₁₆₃ modulo 2609:\n",
      "[1, 1, 1, 1, 1, 1, 1, 1, 1, 1, 1, 1, 1, 1, 1, 1, 1, 1, 1, 1, 1, 1, 1, 1, 1, 1, 1, 1, 1, 1, 1, 1, 1, 1, 1, 1, 1, 1, 1, 1, 1, 1, 1, 1, 1, 1, 1, 1, 1, 1, 1, 1, 1, 1, 1, 1, 1, 1, 1, 1, 1, 1, 1, 1, 1, 1, 1, 1, 1, 1, 1, 1, 1, 1, 1, 1, 1, 1, 1, 1, 1, 163, 163, 163, 163, 163, 163, 163, 163, 163, 163, 163, 163, 163, 163, 163, 163, 163, 163, 163, 163, 163, 163, 163, 163, 163, 163, 163, 163, 163, 163, 163, 163, 163, 163, 163, 163, 163, 163, 163, 163, 163, 163, 163, 163, 163, 163, 163, 163, 163, 163, 163, 163, 163, 163, 163, 163, 163, 163, 163, 163, 163, 163, 163, 163, 163, 163, 163, 163, 163, 163, 163, 163, 163, 163, 163, 163, 163, 163, 163, 163, 163]\n",
      "At p = 2609:\n",
      "Number of linear factors (deg 1): 81\n",
      "Number of degree 163 factors   : 81\n"
     ]
    }
   ],
   "source": [
    "# Fix the prime p = 2609 (note: 2609 ≡ 1 mod 163)\n",
    "p = 2609\n",
    "Fp = GF(p)\n",
    "R.<x> = PolynomialRing(Fp)\n",
    "\n",
    "# Reduce the polynomial modulo p\n",
    "psi_mod_p = R(psi_163)\n",
    "\n",
    "# Factor it over Fp\n",
    "factors = psi_mod_p.factor()\n",
    "\n",
    "# Print the degrees of the irreducible factors\n",
    "print(f\"Degrees of irreducible factors of ψ₁₆₃ modulo {p}:\")\n",
    "degrees = [f.degree() for f, e in factors]\n",
    "print(degrees)\n",
    "# Count degrees\n",
    "deg_counts = {}\n",
    "for f, e in factors:\n",
    "    d = f.degree()\n",
    "    deg_counts[d] = deg_counts.get(d, 0) + 1\n",
    "\n",
    "# Print counts for degree 1 and 163\n",
    "print(f\"At p = {p}:\")\n",
    "print(f\"Number of linear factors (deg 1): {deg_counts.get(1, 0)}\")\n",
    "print(f\"Number of degree 163 factors   : {deg_counts.get(163, 0)}\")"
   ]
  },
  {
   "cell_type": "code",
   "execution_count": 6,
   "id": "a22e5a7e-9023-4a7a-80cb-6435c5862746",
   "metadata": {},
   "outputs": [
    {
     "name": "stdout",
     "output_type": "stream",
     "text": [
      "Degrees of irreducible factors of ψ₁₆₃ modulo 5869:\n",
      "[1, 1, 1, 1, 1, 1, 1, 1, 1, 1, 1, 1, 1, 1, 1, 1, 1, 1, 1, 1, 1, 1, 1, 1, 1, 1, 1, 1, 1, 1, 1, 1, 1, 1, 1, 1, 1, 1, 1, 1, 1, 1, 1, 1, 1, 1, 1, 1, 1, 1, 1, 1, 1, 1, 1, 1, 1, 1, 1, 1, 1, 1, 1, 1, 1, 1, 1, 1, 1, 1, 1, 1, 1, 1, 1, 1, 1, 1, 1, 1, 1, 163, 163, 163, 163, 163, 163, 163, 163, 163, 163, 163, 163, 163, 163, 163, 163, 163, 163, 163, 163, 163, 163, 163, 163, 163, 163, 163, 163, 163, 163, 163, 163, 163, 163, 163, 163, 163, 163, 163, 163, 163, 163, 163, 163, 163, 163, 163, 163, 163, 163, 163, 163, 163, 163, 163, 163, 163, 163, 163, 163, 163, 163, 163, 163, 163, 163, 163, 163, 163, 163, 163, 163, 163, 163, 163, 163, 163, 163, 163, 163, 163]\n",
      "At p = 5869:\n",
      "Number of linear factors (deg 1): 81\n",
      "Number of degree 163 factors   : 81\n"
     ]
    }
   ],
   "source": [
    "# Fix the prime p = 5869 (note: 5869 ≡ 1 mod 163)\n",
    "p = 5869\n",
    "Fp = GF(p)\n",
    "R.<x> = PolynomialRing(Fp)\n",
    "\n",
    "# Reduce the polynomial modulo p\n",
    "psi_mod_p = R(psi_163)\n",
    "\n",
    "# Factor it over Fp\n",
    "factors = psi_mod_p.factor()\n",
    "\n",
    "# Print the degrees of the irreducible factors\n",
    "print(f\"Degrees of irreducible factors of ψ₁₆₃ modulo {p}:\")\n",
    "degrees = [f.degree() for f, e in factors]\n",
    "print(degrees)\n",
    "# Count degrees\n",
    "deg_counts = {}\n",
    "for f, e in factors:\n",
    "    d = f.degree()\n",
    "    deg_counts[d] = deg_counts.get(d, 0) + 1\n",
    "\n",
    "# Print counts for degree 1 and 163\n",
    "print(f\"At p = {p}:\")\n",
    "print(f\"Number of linear factors (deg 1): {deg_counts.get(1, 0)}\")\n",
    "print(f\"Number of degree 163 factors   : {deg_counts.get(163, 0)}\")"
   ]
  },
  {
   "cell_type": "code",
   "execution_count": 7,
   "id": "74b17f4b-97f5-4c9a-abf3-39b7a9e49dc9",
   "metadata": {},
   "outputs": [
    {
     "name": "stdout",
     "output_type": "stream",
     "text": [
      "Degrees of irreducible factors of ψ₁₆₃ modulo 6521:\n",
      "[1, 1, 1, 1, 1, 1, 1, 1, 1, 1, 1, 1, 1, 1, 1, 1, 1, 1, 1, 1, 1, 1, 1, 1, 1, 1, 1, 1, 1, 1, 1, 1, 1, 1, 1, 1, 1, 1, 1, 1, 1, 1, 1, 1, 1, 1, 1, 1, 1, 1, 1, 1, 1, 1, 1, 1, 1, 1, 1, 1, 1, 1, 1, 1, 1, 1, 1, 1, 1, 1, 1, 1, 1, 1, 1, 1, 1, 1, 1, 1, 1, 163, 163, 163, 163, 163, 163, 163, 163, 163, 163, 163, 163, 163, 163, 163, 163, 163, 163, 163, 163, 163, 163, 163, 163, 163, 163, 163, 163, 163, 163, 163, 163, 163, 163, 163, 163, 163, 163, 163, 163, 163, 163, 163, 163, 163, 163, 163, 163, 163, 163, 163, 163, 163, 163, 163, 163, 163, 163, 163, 163, 163, 163, 163, 163, 163, 163, 163, 163, 163, 163, 163, 163, 163, 163, 163, 163, 163, 163, 163, 163, 163]\n",
      "At p = 6521:\n",
      "Number of linear factors (deg 1): 81\n",
      "Number of degree 163 factors   : 81\n"
     ]
    }
   ],
   "source": [
    "# Fix the prime p = 6521 (note: 6521 ≡ 1 mod 163)\n",
    "p = 6521\n",
    "Fp = GF(p)\n",
    "R.<x> = PolynomialRing(Fp)\n",
    "\n",
    "# Reduce the polynomial modulo p\n",
    "psi_mod_p = R(psi_163)\n",
    "\n",
    "# Factor it over Fp\n",
    "factors = psi_mod_p.factor()\n",
    "\n",
    "# Print the degrees of the irreducible factors\n",
    "print(f\"Degrees of irreducible factors of ψ₁₆₃ modulo {p}:\")\n",
    "degrees = [f.degree() for f, e in factors]\n",
    "print(degrees)\n",
    "# Count degrees\n",
    "deg_counts = {}\n",
    "for f, e in factors:\n",
    "    d = f.degree()\n",
    "    deg_counts[d] = deg_counts.get(d, 0) + 1\n",
    "\n",
    "# Print counts for degree 1 and 163\n",
    "print(f\"At p = {p}:\")\n",
    "print(f\"Number of linear factors (deg 1): {deg_counts.get(1, 0)}\")\n",
    "print(f\"Number of degree 163 factors   : {deg_counts.get(163, 0)}\")"
   ]
  },
  {
   "cell_type": "code",
   "execution_count": 8,
   "id": "c2db0e47-0cb7-4253-910c-186264925b2a",
   "metadata": {},
   "outputs": [
    {
     "name": "stdout",
     "output_type": "stream",
     "text": [
      "Degrees of irreducible factors of ψ₁₆₃ modulo 7499:\n",
      "[1, 1, 1, 1, 1, 1, 1, 1, 1, 1, 1, 1, 1, 1, 1, 1, 1, 1, 1, 1, 1, 1, 1, 1, 1, 1, 1, 1, 1, 1, 1, 1, 1, 1, 1, 1, 1, 1, 1, 1, 1, 1, 1, 1, 1, 1, 1, 1, 1, 1, 1, 1, 1, 1, 1, 1, 1, 1, 1, 1, 1, 1, 1, 1, 1, 1, 1, 1, 1, 1, 1, 1, 1, 1, 1, 1, 1, 1, 1, 1, 1, 163, 163, 163, 163, 163, 163, 163, 163, 163, 163, 163, 163, 163, 163, 163, 163, 163, 163, 163, 163, 163, 163, 163, 163, 163, 163, 163, 163, 163, 163, 163, 163, 163, 163, 163, 163, 163, 163, 163, 163, 163, 163, 163, 163, 163, 163, 163, 163, 163, 163, 163, 163, 163, 163, 163, 163, 163, 163, 163, 163, 163, 163, 163, 163, 163, 163, 163, 163, 163, 163, 163, 163, 163, 163, 163, 163, 163, 163, 163, 163, 163]\n",
      "At p = 7499:\n",
      "Number of linear factors (deg 1): 81\n",
      "Number of degree 163 factors   : 81\n"
     ]
    }
   ],
   "source": [
    "# Fix the prime p = 7499 (note: 7499 ≡ 1 mod 163)\n",
    "p = 7499\n",
    "Fp = GF(p)\n",
    "R.<x> = PolynomialRing(Fp)\n",
    "\n",
    "# Reduce the polynomial modulo p\n",
    "psi_mod_p = R(psi_163)\n",
    "\n",
    "# Factor it over Fp\n",
    "factors = psi_mod_p.factor()\n",
    "\n",
    "# Print the degrees of the irreducible factors\n",
    "print(f\"Degrees of irreducible factors of ψ₁₆₃ modulo {p}:\")\n",
    "degrees = [f.degree() for f, e in factors]\n",
    "print(degrees)\n",
    "# Count degrees\n",
    "deg_counts = {}\n",
    "for f, e in factors:\n",
    "    d = f.degree()\n",
    "    deg_counts[d] = deg_counts.get(d, 0) + 1\n",
    "\n",
    "# Print counts for degree 1 and 163\n",
    "print(f\"At p = {p}:\")\n",
    "print(f\"Number of linear factors (deg 1): {deg_counts.get(1, 0)}\")\n",
    "print(f\"Number of degree 163 factors   : {deg_counts.get(163, 0)}\")"
   ]
  },
  {
   "cell_type": "code",
   "execution_count": 9,
   "id": "8e635d25-e6f2-49a2-80fc-919252165c28",
   "metadata": {},
   "outputs": [
    {
     "name": "stdout",
     "output_type": "stream",
     "text": [
      "Degrees of irreducible factors of ψ₁₆₃ modulo 8803:\n",
      "[1, 1, 1, 1, 1, 1, 1, 1, 1, 1, 1, 1, 1, 1, 1, 1, 1, 1, 1, 1, 1, 1, 1, 1, 1, 1, 1, 1, 1, 1, 1, 1, 1, 1, 1, 1, 1, 1, 1, 1, 1, 1, 1, 1, 1, 1, 1, 1, 1, 1, 1, 1, 1, 1, 1, 1, 1, 1, 1, 1, 1, 1, 1, 1, 1, 1, 1, 1, 1, 1, 1, 1, 1, 1, 1, 1, 1, 1, 1, 1, 1, 163, 163, 163, 163, 163, 163, 163, 163, 163, 163, 163, 163, 163, 163, 163, 163, 163, 163, 163, 163, 163, 163, 163, 163, 163, 163, 163, 163, 163, 163, 163, 163, 163, 163, 163, 163, 163, 163, 163, 163, 163, 163, 163, 163, 163, 163, 163, 163, 163, 163, 163, 163, 163, 163, 163, 163, 163, 163, 163, 163, 163, 163, 163, 163, 163, 163, 163, 163, 163, 163, 163, 163, 163, 163, 163, 163, 163, 163, 163, 163, 163]\n",
      "At p = 8803:\n",
      "Number of linear factors (deg 1): 81\n",
      "Number of degree 163 factors   : 81\n"
     ]
    }
   ],
   "source": [
    "# Fix the prime p = 8803 (note: 8803 ≡ 1 mod 163)\n",
    "p = 8803\n",
    "Fp = GF(p)\n",
    "R.<x> = PolynomialRing(Fp)\n",
    "\n",
    "# Reduce the polynomial modulo p\n",
    "psi_mod_p = R(psi_163)\n",
    "\n",
    "# Factor it over Fp\n",
    "factors = psi_mod_p.factor()\n",
    "\n",
    "# Print the degrees of the irreducible factors\n",
    "print(f\"Degrees of irreducible factors of ψ₁₆₃ modulo {p}:\")\n",
    "degrees = [f.degree() for f, e in factors]\n",
    "print(degrees)\n",
    "# Count degrees\n",
    "deg_counts = {}\n",
    "for f, e in factors:\n",
    "    d = f.degree()\n",
    "    deg_counts[d] = deg_counts.get(d, 0) + 1\n",
    "\n",
    "# Print counts for degree 1 and 163\n",
    "print(f\"At p = {p}:\")\n",
    "print(f\"Number of linear factors (deg 1): {deg_counts.get(1, 0)}\")\n",
    "print(f\"Number of degree 163 factors   : {deg_counts.get(163, 0)}\")"
   ]
  },
  {
   "cell_type": "code",
   "execution_count": 10,
   "id": "2cbce49f-0c1a-4dcb-952e-c045a2a6411e",
   "metadata": {},
   "outputs": [
    {
     "name": "stdout",
     "output_type": "stream",
     "text": [
      "Degrees of irreducible factors of ψ₁₆₃ modulo 9781:\n",
      "[1, 1, 1, 1, 1, 1, 1, 1, 1, 1, 1, 1, 1, 1, 1, 1, 1, 1, 1, 1, 1, 1, 1, 1, 1, 1, 1, 1, 1, 1, 1, 1, 1, 1, 1, 1, 1, 1, 1, 1, 1, 1, 1, 1, 1, 1, 1, 1, 1, 1, 1, 1, 1, 1, 1, 1, 1, 1, 1, 1, 1, 1, 1, 1, 1, 1, 1, 1, 1, 1, 1, 1, 1, 1, 1, 1, 1, 1, 1, 1, 1, 163, 163, 163, 163, 163, 163, 163, 163, 163, 163, 163, 163, 163, 163, 163, 163, 163, 163, 163, 163, 163, 163, 163, 163, 163, 163, 163, 163, 163, 163, 163, 163, 163, 163, 163, 163, 163, 163, 163, 163, 163, 163, 163, 163, 163, 163, 163, 163, 163, 163, 163, 163, 163, 163, 163, 163, 163, 163, 163, 163, 163, 163, 163, 163, 163, 163, 163, 163, 163, 163, 163, 163, 163, 163, 163, 163, 163, 163, 163, 163, 163]\n",
      "At p = 9781:\n",
      "Number of linear factors (deg 1): 81\n",
      "Number of degree 163 factors   : 81\n"
     ]
    }
   ],
   "source": [
    "# Fix the prime p = 9781 (note: 9781 ≡ 1 mod 163)\n",
    "p = 9781\n",
    "Fp = GF(p)\n",
    "R.<x> = PolynomialRing(Fp)\n",
    "\n",
    "# Reduce the polynomial modulo p\n",
    "psi_mod_p = R(psi_163)\n",
    "\n",
    "# Factor it over Fp\n",
    "factors = psi_mod_p.factor()\n",
    "\n",
    "# Print the degrees of the irreducible factors\n",
    "print(f\"Degrees of irreducible factors of ψ₁₆₃ modulo {p}:\")\n",
    "degrees = [f.degree() for f, e in factors]\n",
    "print(degrees)\n",
    "# Count degrees\n",
    "deg_counts = {}\n",
    "for f, e in factors:\n",
    "    d = f.degree()\n",
    "    deg_counts[d] = deg_counts.get(d, 0) + 1\n",
    "\n",
    "# Print counts for degree 1 and 163\n",
    "print(f\"At p = {p}:\")\n",
    "print(f\"Number of linear factors (deg 1): {deg_counts.get(1, 0)}\")\n",
    "print(f\"Number of degree 163 factors   : {deg_counts.get(163, 0)}\")"
   ]
  },
  {
   "cell_type": "code",
   "execution_count": 11,
   "id": "10eb43ca-40d5-4706-82fb-47ed8fb58178",
   "metadata": {},
   "outputs": [
    {
     "name": "stdout",
     "output_type": "stream",
     "text": [
      "Degrees of irreducible factors of ψ₁₆₃ modulo 10433:\n",
      "[1, 1, 1, 1, 1, 1, 1, 1, 1, 1, 1, 1, 1, 1, 1, 1, 1, 1, 1, 1, 1, 1, 1, 1, 1, 1, 1, 1, 1, 1, 1, 1, 1, 1, 1, 1, 1, 1, 1, 1, 1, 1, 1, 1, 1, 1, 1, 1, 1, 1, 1, 1, 1, 1, 1, 1, 1, 1, 1, 1, 1, 1, 1, 1, 1, 1, 1, 1, 1, 1, 1, 1, 1, 1, 1, 1, 1, 1, 1, 1, 1, 163, 163, 163, 163, 163, 163, 163, 163, 163, 163, 163, 163, 163, 163, 163, 163, 163, 163, 163, 163, 163, 163, 163, 163, 163, 163, 163, 163, 163, 163, 163, 163, 163, 163, 163, 163, 163, 163, 163, 163, 163, 163, 163, 163, 163, 163, 163, 163, 163, 163, 163, 163, 163, 163, 163, 163, 163, 163, 163, 163, 163, 163, 163, 163, 163, 163, 163, 163, 163, 163, 163, 163, 163, 163, 163, 163, 163, 163, 163, 163, 163]\n",
      "At p = 10433:\n",
      "Number of linear factors (deg 1): 81\n",
      "Number of degree 163 factors   : 81\n"
     ]
    }
   ],
   "source": [
    "# Fix the prime p = 10433 (note: 10433 ≡ 1 mod 163)\n",
    "p = 10433\n",
    "Fp = GF(p)\n",
    "R.<x> = PolynomialRing(Fp)\n",
    "\n",
    "# Reduce the polynomial modulo p\n",
    "psi_mod_p = R(psi_163)\n",
    "\n",
    "# Factor it over Fp\n",
    "factors = psi_mod_p.factor()\n",
    "\n",
    "# Print the degrees of the irreducible factors\n",
    "print(f\"Degrees of irreducible factors of ψ₁₆₃ modulo {p}:\")\n",
    "degrees = [f.degree() for f, e in factors]\n",
    "print(degrees)\n",
    "# Count degrees\n",
    "deg_counts = {}\n",
    "for f, e in factors:\n",
    "    d = f.degree()\n",
    "    deg_counts[d] = deg_counts.get(d, 0) + 1\n",
    "\n",
    "# Print counts for degree 1 and 163\n",
    "print(f\"At p = {p}:\")\n",
    "print(f\"Number of linear factors (deg 1): {deg_counts.get(1, 0)}\")\n",
    "print(f\"Number of degree 163 factors   : {deg_counts.get(163, 0)}\")"
   ]
  },
  {
   "cell_type": "code",
   "execution_count": 12,
   "id": "5c3f4ad9-44be-4e91-8d63-187a16283d83",
   "metadata": {},
   "outputs": [
    {
     "name": "stdout",
     "output_type": "stream",
     "text": [
      "Degrees of irreducible factors of ψ₁₆₃ modulo 11411:\n",
      "[1, 1, 1, 1, 1, 1, 1, 1, 1, 1, 1, 1, 1, 1, 1, 1, 1, 1, 1, 1, 1, 1, 1, 1, 1, 1, 1, 1, 1, 1, 1, 1, 1, 1, 1, 1, 1, 1, 1, 1, 1, 1, 1, 1, 1, 1, 1, 1, 1, 1, 1, 1, 1, 1, 1, 1, 1, 1, 1, 1, 1, 1, 1, 1, 1, 1, 1, 1, 1, 1, 1, 1, 1, 1, 1, 1, 1, 1, 1, 1, 1, 163, 163, 163, 163, 163, 163, 163, 163, 163, 163, 163, 163, 163, 163, 163, 163, 163, 163, 163, 163, 163, 163, 163, 163, 163, 163, 163, 163, 163, 163, 163, 163, 163, 163, 163, 163, 163, 163, 163, 163, 163, 163, 163, 163, 163, 163, 163, 163, 163, 163, 163, 163, 163, 163, 163, 163, 163, 163, 163, 163, 163, 163, 163, 163, 163, 163, 163, 163, 163, 163, 163, 163, 163, 163, 163, 163, 163, 163, 163, 163, 163]\n",
      "At p = 11411:\n",
      "Number of linear factors (deg 1): 81\n",
      "Number of degree 163 factors   : 81\n"
     ]
    }
   ],
   "source": [
    "# Fix the prime p = 11411 (note: 11411 ≡ 1 mod 163)\n",
    "p = 11411\n",
    "Fp = GF(p)\n",
    "R.<x> = PolynomialRing(Fp)\n",
    "\n",
    "# Reduce the polynomial modulo p\n",
    "psi_mod_p = R(psi_163)\n",
    "\n",
    "# Factor it over Fp\n",
    "factors = psi_mod_p.factor()\n",
    "\n",
    "# Print the degrees of the irreducible factors\n",
    "print(f\"Degrees of irreducible factors of ψ₁₆₃ modulo {p}:\")\n",
    "degrees = [f.degree() for f, e in factors]\n",
    "print(degrees)\n",
    "# Count degrees\n",
    "deg_counts = {}\n",
    "for f, e in factors:\n",
    "    d = f.degree()\n",
    "    deg_counts[d] = deg_counts.get(d, 0) + 1\n",
    "\n",
    "# Print counts for degree 1 and 163\n",
    "print(f\"At p = {p}:\")\n",
    "print(f\"Number of linear factors (deg 1): {deg_counts.get(1, 0)}\")\n",
    "print(f\"Number of degree 163 factors   : {deg_counts.get(163, 0)}\")"
   ]
  },
  {
   "cell_type": "code",
   "execution_count": 13,
   "id": "5e5fff44-4da3-46a9-af67-fb44f3462ba9",
   "metadata": {},
   "outputs": [
    {
     "name": "stdout",
     "output_type": "stream",
     "text": [
      "Degrees of irreducible factors of ψ₁₆₃ modulo 13367:\n",
      "[1, 1, 1, 1, 1, 1, 1, 1, 1, 1, 1, 1, 1, 1, 1, 1, 1, 1, 1, 1, 1, 1, 1, 1, 1, 1, 1, 1, 1, 1, 1, 1, 1, 1, 1, 1, 1, 1, 1, 1, 1, 1, 1, 1, 1, 1, 1, 1, 1, 1, 1, 1, 1, 1, 1, 1, 1, 1, 1, 1, 1, 1, 1, 1, 1, 1, 1, 1, 1, 1, 1, 1, 1, 1, 1, 1, 1, 1, 1, 1, 1, 163, 163, 163, 163, 163, 163, 163, 163, 163, 163, 163, 163, 163, 163, 163, 163, 163, 163, 163, 163, 163, 163, 163, 163, 163, 163, 163, 163, 163, 163, 163, 163, 163, 163, 163, 163, 163, 163, 163, 163, 163, 163, 163, 163, 163, 163, 163, 163, 163, 163, 163, 163, 163, 163, 163, 163, 163, 163, 163, 163, 163, 163, 163, 163, 163, 163, 163, 163, 163, 163, 163, 163, 163, 163, 163, 163, 163, 163, 163, 163, 163]\n",
      "At p = 13367:\n",
      "Number of linear factors (deg 1): 81\n",
      "Number of degree 163 factors   : 81\n"
     ]
    }
   ],
   "source": [
    "# Fix the prime p = 13367 (note: 13367 ≡ 1 mod 163)\n",
    "p = 13367\n",
    "Fp = GF(p)\n",
    "R.<x> = PolynomialRing(Fp)\n",
    "\n",
    "# Reduce the polynomial modulo p\n",
    "psi_mod_p = R(psi_163)\n",
    "\n",
    "# Factor it over Fp\n",
    "factors = psi_mod_p.factor()\n",
    "\n",
    "# Print the degrees of the irreducible factors\n",
    "print(f\"Degrees of irreducible factors of ψ₁₆₃ modulo {p}:\")\n",
    "degrees = [f.degree() for f, e in factors]\n",
    "print(degrees)\n",
    "# Count degrees\n",
    "deg_counts = {}\n",
    "for f, e in factors:\n",
    "    d = f.degree()\n",
    "    deg_counts[d] = deg_counts.get(d, 0) + 1\n",
    "\n",
    "# Print counts for degree 1 and 163\n",
    "print(f\"At p = {p}:\")\n",
    "print(f\"Number of linear factors (deg 1): {deg_counts.get(1, 0)}\")\n",
    "print(f\"Number of degree 163 factors   : {deg_counts.get(163, 0)}\")"
   ]
  },
  {
   "cell_type": "code",
   "execution_count": 14,
   "id": "1786b410-bcdd-49b0-bbda-1f436c8cfacf",
   "metadata": {},
   "outputs": [],
   "source": [
    "# For 10 different primes p ≡ 1 mod 163, we can see that if we factorize 163-division polynomial over Fp\n",
    "# We obtain 81 roots. This is a strong evidence that the division polynomial has 81 roots in Q(zeta_163)\n",
    "# Those roots are the x-coordinates of the 162 many points of order 163 that forms the kernel of the 163-isogeny"
   ]
  },
  {
   "cell_type": "code",
   "execution_count": null,
   "id": "ef022971-7ef9-4c40-9c6e-70da15bc0e5d",
   "metadata": {},
   "outputs": [],
   "source": []
  }
 ],
 "metadata": {
  "kernelspec": {
   "display_name": "SageMath 10.7.beta5",
   "language": "sage",
   "name": "sagemath"
  },
  "language_info": {
   "codemirror_mode": {
    "name": "ipython",
    "version": 3
   },
   "file_extension": ".py",
   "mimetype": "text/x-python",
   "name": "python",
   "nbconvert_exporter": "python",
   "pygments_lexer": "ipython3",
   "version": "3.12.5"
  }
 },
 "nbformat": 4,
 "nbformat_minor": 5
}
