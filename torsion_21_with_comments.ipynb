{
 "cells": [
  {
   "cell_type": "code",
   "execution_count": 1,
   "id": "a458497a-976d-4c6c-9472-01839321d794",
   "metadata": {},
   "outputs": [],
   "source": [
    "## Detecting the Field of Definition of a Rational 21-Isogeny via 7-Division Polynomial\n",
    "\n",
    "# There are exactly four j-invariants over Q which correspond to elliptic curves \n",
    "# with a rational 21-isogeny. We select one elliptic curve from each j-invariant class.\n",
    "# Our goal is to show that 3 is ramified at the splitting field of the x-coordinate of any point belonging to the kernel of the 7-isogeny\n",
    "\n",
    "# Rather than working with the 21-division polynomial, we focus on the 7-division polynomial. \n",
    "# This is sufficient because the field of definition of the kernel of the 7-isogeny is a subfield \n",
    "# of the field of definition of the kernel of the 21-isogeny.\n",
    "\n",
    "# For each elliptic curve:\n",
    "# We compute the 7-division polynomial.\n",
    "# It factorizes as a product of irreducibles of degrees 3 and 21.\n",
    "# The degree 3 factor corresponds to the minimal polynomial of the x-coordinate of a \n",
    "# point in the kernel of the 7-isogeny.\n",
    "# This is because the field of definition of the kernel of the 7-isogeny is Galois and \n",
    "# its Galois group is isomorphic to a subgroup of Z/6Z = (Z/7Z)*\n",
    "# We extract this polynomial and compute its discriminant to show that 3 is ramified.\n"
   ]
  },
  {
   "cell_type": "code",
   "execution_count": 4,
   "id": "5e697a1b-4f67-40bf-b2f4-7d46f0c8b05c",
   "metadata": {},
   "outputs": [
    {
     "name": "stdout",
     "output_type": "stream",
     "text": [
      "Factor degrees of 7-division polynomial:\n",
      "Degree 3\n",
      "Degree 21\n",
      "\n",
      "Cubic factor (kernel candidate):\n",
      "x^3 - 3*x^2 + 3\n",
      "\n",
      "Degree of splitting field: 3\n",
      "Discriminant of the splitting field: 81\n",
      "→ 3 divides the discriminant: 3 is ramified.\n"
     ]
    }
   ],
   "source": [
    "# Step 1: Define the elliptic curve\n",
    "E_162c3 = EllipticCurve([1, -1, 1, -5, 5])\n",
    "E = E_162c3\n",
    "# Step 2: Compute and factor the 7-division polynomial\n",
    "psi_7 = E.division_polynomial(7)\n",
    "R.<x> = PolynomialRing(QQ)\n",
    "factors = psi_7.factor()\n",
    "\n",
    "# Display factor degrees\n",
    "print(\"Factor degrees of 7-division polynomial:\")\n",
    "for f, e in factors:\n",
    "    print(f\"Degree {f.degree()}\")\n",
    "\n",
    "# Step 3: Select the degree 3 factor\n",
    "cubic_factors = [f for f, e in factors if f.degree() == 3]\n",
    "\n",
    "if not cubic_factors:\n",
    "    print(\"⚠️ No cubic factor found.\")\n",
    "else:\n",
    "    f3 = cubic_factors[0]\n",
    "    print(\"\\nCubic factor (kernel candidate):\")\n",
    "    print(f3)\n",
    "\n",
    "    # Step 4: Compute the splitting field of this polynomial\n",
    "    K = f3.splitting_field('a')\n",
    "    print(f\"\\nDegree of splitting field: {K.degree()}\")\n",
    "\n",
    "    # Step 5: Compute discriminant and check ramification at 3\n",
    "    D = K.absolute_discriminant()\n",
    "    print(f\"Discriminant of the splitting field: {D}\")\n",
    "\n",
    "    if D % 3 == 0:\n",
    "        print(\"→ 3 divides the discriminant: 3 is ramified.\")\n",
    "    else:\n",
    "        print(\"→ 3 does NOT divide the discriminant: 3 is unramified.\")\n",
    "\n"
   ]
  },
  {
   "cell_type": "code",
   "execution_count": 5,
   "id": "d391da97-e835-4fad-b208-5b85f812e0e2",
   "metadata": {},
   "outputs": [
    {
     "name": "stdout",
     "output_type": "stream",
     "text": [
      "Factor degrees of 7-division polynomial:\n",
      "Degree 3\n",
      "Degree 21\n",
      "\n",
      "Cubic factor (kernel candidate):\n",
      "x^3 + 6*x^2 + 3*x - 1\n",
      "\n",
      "Degree of splitting field: 3\n",
      "Discriminant of the splitting field: 81\n",
      "→ 3 divides the discriminant: 3 is ramified.\n"
     ]
    }
   ],
   "source": [
    "# Step 1: Define the elliptic curve\n",
    "E_162b4 = EllipticCurve([1, -1, 0, 3, -1])\n",
    "E = E_162b4\n",
    "# Step 2: Compute and factor the 7-division polynomial\n",
    "psi_7 = E.division_polynomial(7)\n",
    "R.<x> = PolynomialRing(QQ)\n",
    "factors = psi_7.factor()\n",
    "\n",
    "# Display factor degrees\n",
    "print(\"Factor degrees of 7-division polynomial:\")\n",
    "for f, e in factors:\n",
    "    print(f\"Degree {f.degree()}\")\n",
    "\n",
    "# Step 3: Select the degree 3 factor\n",
    "cubic_factors = [f for f, e in factors if f.degree() == 3]\n",
    "\n",
    "if not cubic_factors:\n",
    "    print(\"⚠️ No cubic factor found.\")\n",
    "else:\n",
    "    f3 = cubic_factors[0]\n",
    "    print(\"\\nCubic factor (kernel candidate):\")\n",
    "    print(f3)\n",
    "\n",
    "    # Step 4: Compute the splitting field of this polynomial\n",
    "    K = f3.splitting_field('a')\n",
    "    print(f\"\\nDegree of splitting field: {K.degree()}\")\n",
    "\n",
    "    # Step 5: Compute discriminant and check ramification at 3\n",
    "    D = K.absolute_discriminant()\n",
    "    print(f\"Discriminant of the splitting field: {D}\")\n",
    "\n",
    "    if D % 3 == 0:\n",
    "        print(\"→ 3 divides the discriminant: 3 is ramified.\")\n",
    "    else:\n",
    "        print(\"→ 3 does NOT divide the discriminant: 3 is unramified.\")\n"
   ]
  },
  {
   "cell_type": "code",
   "execution_count": 6,
   "id": "f6855d38-8958-4369-92f7-fdcc978940c5",
   "metadata": {},
   "outputs": [
    {
     "name": "stdout",
     "output_type": "stream",
     "text": [
      "Factor degrees of 7-division polynomial:\n",
      "Degree 3\n",
      "Degree 21\n",
      "\n",
      "Cubic factor (kernel candidate):\n",
      "x^3 + 15*x^2 - 117*x - 4821/7\n",
      "\n",
      "Degree of splitting field: 3\n",
      "Discriminant of the splitting field: 3969\n",
      "→ 3 divides the discriminant: 3 is ramified.\n"
     ]
    }
   ],
   "source": [
    "# Step 1: Define the elliptic curve\n",
    "E_162c2 = EllipticCurve([1, -1, 1, -95, -697])\n",
    "E = E_162c2\n",
    "# Step 2: Compute and factor the 7-division polynomial\n",
    "psi_7 = E.division_polynomial(7)\n",
    "R.<x> = PolynomialRing(QQ)\n",
    "factors = psi_7.factor()\n",
    "\n",
    "# Display factor degrees\n",
    "print(\"Factor degrees of 7-division polynomial:\")\n",
    "for f, e in factors:\n",
    "    print(f\"Degree {f.degree()}\")\n",
    "\n",
    "# Step 3: Select the degree 3 factor\n",
    "cubic_factors = [f for f, e in factors if f.degree() == 3]\n",
    "\n",
    "if not cubic_factors:\n",
    "    print(\"⚠️ No cubic factor found.\")\n",
    "else:\n",
    "    f3 = cubic_factors[0]\n",
    "    print(\"\\nCubic factor (kernel candidate):\")\n",
    "    print(f3)\n",
    "\n",
    "    # Step 4: Compute the splitting field of this polynomial\n",
    "    K = f3.splitting_field('a')\n",
    "    print(f\"\\nDegree of splitting field: {K.degree()}\")\n",
    "\n",
    "    # Step 5: Compute discriminant and check ramification at 3\n",
    "    D = K.absolute_discriminant()\n",
    "    print(f\"Discriminant of the splitting field: {D}\")\n",
    "\n",
    "    if D % 3 == 0:\n",
    "        print(\"→ 3 divides the discriminant: 3 is ramified.\")\n",
    "    else:\n",
    "        print(\"→ 3 does NOT divide the discriminant: 3 is unramified.\")"
   ]
  },
  {
   "cell_type": "code",
   "execution_count": 7,
   "id": "1a0132d7-6790-49f9-a1f3-7530acbe7173",
   "metadata": {},
   "outputs": [
    {
     "name": "stdout",
     "output_type": "stream",
     "text": [
      "Factor degrees of 7-division polynomial:\n",
      "Degree 3\n",
      "Degree 21\n",
      "\n",
      "Cubic factor (kernel candidate):\n",
      "x^3 - 48*x^2 + 732*x - 24064/7\n",
      "\n",
      "Degree of splitting field: 3\n",
      "Discriminant of the splitting field: 3969\n",
      "→ 3 divides the discriminant: 3 is ramified.\n"
     ]
    }
   ],
   "source": [
    "# Step 1: Define the elliptic curve\n",
    "E_162b1 = EllipticCurve([1, -1, 0, -1077, 13877])\n",
    "E = E_162b1\n",
    "# Step 2: Compute and factor the 7-division polynomial\n",
    "psi_7 = E.division_polynomial(7)\n",
    "R.<x> = PolynomialRing(QQ)\n",
    "factors = psi_7.factor()\n",
    "\n",
    "# Display factor degrees\n",
    "print(\"Factor degrees of 7-division polynomial:\")\n",
    "for f, e in factors:\n",
    "    print(f\"Degree {f.degree()}\")\n",
    "\n",
    "# Step 3: Select the degree 3 factor\n",
    "cubic_factors = [f for f, e in factors if f.degree() == 3]\n",
    "\n",
    "if not cubic_factors:\n",
    "    print(\"⚠️ No cubic factor found.\")\n",
    "else:\n",
    "    f3 = cubic_factors[0]\n",
    "    print(\"\\nCubic factor (kernel candidate):\")\n",
    "    print(f3)\n",
    "\n",
    "    # Step 4: Compute the splitting field of this polynomial\n",
    "    K = f3.splitting_field('a')\n",
    "    print(f\"\\nDegree of splitting field: {K.degree()}\")\n",
    "\n",
    "    # Step 5: Compute discriminant and check ramification at 3\n",
    "    D = K.absolute_discriminant()\n",
    "    print(f\"Discriminant of the splitting field: {D}\")\n",
    "\n",
    "    if D % 3 == 0:\n",
    "        print(\"→ 3 divides the discriminant: 3 is ramified.\")\n",
    "    else:\n",
    "        print(\"→ 3 does NOT divide the discriminant: 3 is unramified.\")"
   ]
  },
  {
   "cell_type": "code",
   "execution_count": 8,
   "id": "f4928cf1-5793-4256-a1f3-711d57f87f0a",
   "metadata": {},
   "outputs": [],
   "source": [
    "# As expected, the 7-division polynomial of our elliptic curves factors into irreducibles of degrees 3 and 21.  \n",
    "# We focus on the cubic factor and compute its splitting field. The discriminant of this field is divisible by 3,  \n",
    "# so we conclude that 3 is ramified in the field of definition of the kernel of the 21-isogeny.\n"
   ]
  },
  {
   "cell_type": "code",
   "execution_count": null,
   "id": "592faa5d-e747-42e7-89aa-44ef06bb2fbf",
   "metadata": {},
   "outputs": [],
   "source": []
  }
 ],
 "metadata": {
  "kernelspec": {
   "display_name": "SageMath 10.7.beta5",
   "language": "sage",
   "name": "sagemath"
  },
  "language_info": {
   "codemirror_mode": {
    "name": "ipython",
    "version": 3
   },
   "file_extension": ".py",
   "mimetype": "text/x-python",
   "name": "python",
   "nbconvert_exporter": "python",
   "pygments_lexer": "ipython3",
   "version": "3.12.5"
  }
 },
 "nbformat": 4,
 "nbformat_minor": 5
}
