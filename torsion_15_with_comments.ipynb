{
 "cells": [
  {
   "cell_type": "code",
   "execution_count": 1,
   "id": "96d64ad8-1584-4942-b8a0-9c06b9015634",
   "metadata": {},
   "outputs": [],
   "source": [
    "## Field of Definition of the Kernel of a Rational 15-Isogeny\n",
    "\n",
    "# We consider rational elliptic curves with a rational 15-isogeny and aim to determine the \n",
    "# field of definition of the kernel of the isogeny. Specifically, we analyze the 15-division \n",
    "# polynomial and factor it over Q to extract the minimal polynomial of the \n",
    "# x-coordinate of the generator of the kernel.\n",
    "\n",
    "# Let $ G = (\\mathbb{Z}/15\\mathbb{Z})^\\times \\cong \\mathbb{Z}/2\\mathbb{Z} \\times \\mathbb{Z}/4\\mathbb{Z} $. \n",
    "# The Galois group of the field of definition of the kernel must be a subgroup of G, so the degree \n",
    "# of the field must divide 8. Therefore, we search for irreducible factors of the 15-division polynomial \n",
    "# whose degree is 1, 2, 4, or 8. \n"
   ]
  },
  {
   "cell_type": "code",
   "execution_count": 2,
   "id": "43b5199a-653d-4e1c-aa93-e11a8ab9aa25",
   "metadata": {},
   "outputs": [
    {
     "data": {
      "text/plain": [
       "(5) * (x^2 + x - 1) * (x^5 - 5*x^4 - 10*x^2 - 5*x - 27) * (x^5 + 5*x^4 + 20*x^3 - 20*x^2 - 25*x - 17)"
      ]
     },
     "execution_count": 2,
     "metadata": {},
     "output_type": "execute_result"
    }
   ],
   "source": [
    "# Define the elliptic curve E = 50a3, which has a rational 15-isogeny\n",
    "E_50a3 = EllipticCurve([1, 0, 1, -1, -2])\n",
    "E = E_50a3\n",
    "\n",
    "# Compute the 15-division polynomial ψ_15(x)\n",
    "# However, it is often enough to compute ψ_5(x) to find the x-coordinate of the kernel point\n",
    "# for a 15-isogeny, as the order-5 point will lie in the kernel\n",
    "psi_5 = E.division_polynomial(5)\n",
    "\n",
    "# Factor the division polynomial over Q\n",
    "# We're interested in irreducible factors whose degree divides φ(15) = 8\n",
    "# So we focus on degrees 1, 2, 4, or 8\n",
    "factorization = psi_5.factor()\n",
    "factorization"
   ]
  },
  {
   "cell_type": "code",
   "execution_count": 3,
   "id": "4d3f70ca-13e2-4088-84c2-6c8197d8e675",
   "metadata": {},
   "outputs": [],
   "source": [
    "# The 5-division polynomial factors as a product of polynomials of degrees 2, 5, and 5. \n",
    "# Since the only factor with degree dividing 8 is the quadratic one, we conclude that \n",
    "# the field of definition of the kernel generator is a quadratic extension of Q."
   ]
  },
  {
   "cell_type": "code",
   "execution_count": 4,
   "id": "ecc68e1f-0ab8-42d9-ae8c-0358f78ce049",
   "metadata": {},
   "outputs": [
    {
     "name": "stdout",
     "output_type": "stream",
     "text": [
      "Quadratic factor: x^2 + x - 1\n",
      "Discriminant of the quadratic factor: 5\n"
     ]
    }
   ],
   "source": [
    "# Now we calculate the discriminant of the first polynomial to see that 5 is ramified at the splitting field of it\n",
    "# Extract the first (degree 2) factor of the division polynomial\n",
    "# This factor corresponds to the minimal polynomial of the x-coordinate of the kernel point\n",
    "quad_factor = factorization[0][0]  # get the polynomial only, ignore exponent\n",
    "\n",
    "# Display the polynomial\n",
    "print(\"Quadratic factor:\", quad_factor)\n",
    "\n",
    "# Compute and display its discriminant\n",
    "disc = quad_factor.discriminant()\n",
    "print(\"Discriminant of the quadratic factor:\", disc)"
   ]
  },
  {
   "cell_type": "code",
   "execution_count": 5,
   "id": "9bca7403-c9ed-4903-aeb4-c6a7f8537d3b",
   "metadata": {},
   "outputs": [],
   "source": [
    "# Since the discriminant of the quadratic polynomial is divisible by 5 but not 25, this shows that \n",
    "# the prime 5 is ramified in the splitting field of the kernel generator of the 15-isogeny."
   ]
  },
  {
   "cell_type": "code",
   "execution_count": 6,
   "id": "4309495d-bf97-404e-9157-01e6cc7ebe66",
   "metadata": {},
   "outputs": [
    {
     "data": {
      "text/plain": [
       "(5) * (x^2 - 33*x + 261) * (x^5 - 45*x^4 - 990*x^3 + 89910*x^2 - 1765395*x + 11264751) * (x^5 + 75*x^4 - 8910*x^3 + 283230*x^2 - 3832515*x + 19439271)"
      ]
     },
     "execution_count": 6,
     "metadata": {},
     "output_type": "execute_result"
    }
   ],
   "source": [
    "# Define the elliptic curve E = 450g1, which has a rational 15-isogeny\n",
    "E_450g1 = EllipticCurve([1, -1, 1, -1130, 14897])\n",
    "E = E_450g1\n",
    "\n",
    "# Compute the 15-division polynomial ψ_15(x)\n",
    "# However, it is often enough to compute ψ_5(x) to find the x-coordinate of the kernel point\n",
    "# for a 15-isogeny, as the order-5 point will lie in the kernel\n",
    "psi_5 = E.division_polynomial(5)\n",
    "\n",
    "# Factor the division polynomial over Q\n",
    "# We're interested in irreducible factors whose degree divides φ(15) = 8\n",
    "# So we focus on degrees 1, 2, 4, or 8\n",
    "factorization = psi_5.factor()\n",
    "factorization"
   ]
  },
  {
   "cell_type": "code",
   "execution_count": 7,
   "id": "daf02f01-5d82-4760-897e-b5d8fcf7c3e7",
   "metadata": {},
   "outputs": [],
   "source": [
    "# The 5-division polynomial factors as a product of polynomials of degrees 2, 5, and 5. \n",
    "# Since the only factor with degree dividing 8 is the quadratic one, we conclude that \n",
    "# the field of definition of the kernel generator is a quadratic extension of Q."
   ]
  },
  {
   "cell_type": "code",
   "execution_count": 8,
   "id": "717a6398-a266-48e4-b46d-2c097d59cca7",
   "metadata": {},
   "outputs": [
    {
     "name": "stdout",
     "output_type": "stream",
     "text": [
      "Quadratic factor: x^2 - 33*x + 261\n",
      "Discriminant of the quadratic factor: 45\n"
     ]
    }
   ],
   "source": [
    "# Now we calculate the discriminant of the first polynomial to see that 5 is ramified at the splitting field of it\n",
    "# Extract the first (degree 2) factor of the division polynomial\n",
    "# This factor corresponds to the minimal polynomial of the x-coordinate of the kernel point\n",
    "quad_factor = factorization[0][0]  # get the polynomial only, ignore exponent\n",
    "\n",
    "# Display the polynomial\n",
    "print(\"Quadratic factor:\", quad_factor)\n",
    "\n",
    "# Compute and display its discriminant\n",
    "disc = quad_factor.discriminant()\n",
    "print(\"Discriminant of the quadratic factor:\", disc)"
   ]
  },
  {
   "cell_type": "code",
   "execution_count": 9,
   "id": "223a413b-cc09-4bae-8fd2-add56174a750",
   "metadata": {},
   "outputs": [],
   "source": [
    "# Since the discriminant of the quadratic polynomial is divisible by 5 but not 25, this shows that \n",
    "# the prime 5 is ramified in the splitting field of the kernel generator of the 15-isogeny."
   ]
  },
  {
   "cell_type": "code",
   "execution_count": 10,
   "id": "7165f88b-1c24-4911-9b3e-2b95d7224cc4",
   "metadata": {},
   "outputs": [],
   "source": [
    "## Example: Curve 50b3 and the Field of Definition of a 15-Isogeny Kernel\n",
    "\n",
    "# We analyze the elliptic curve `E_50b3 = [1, 1, 1, -3, 1]`, which has a rational 15-isogeny.\n",
    "# Its 3 and 5-division polynomials have rational roots, so Q-rational torsion points of \n",
    "# orders 3 and 5 are already present.\n",
    "\n",
    "# We compute and factor the 15-division polynomial. Among its irreducible factors, we identify:\n",
    "# Several linear factors coming from 3- and 5-torsion points.\n",
    "# Two quadratic factors, either of which defines a degree-2 extension over which a generator of the \n",
    "# kernel of the 15-isogeny may be defined.\n",
    "\n",
    "# This shows that the x-coordinate of the kernel generator lies in a quadratic extension of Q."
   ]
  },
  {
   "cell_type": "code",
   "execution_count": 11,
   "id": "9446d3e5-36bc-47e5-9666-c77964dbf0fd",
   "metadata": {},
   "outputs": [],
   "source": [
    "# The 3-division and 5-division polynomials each have linear factors, confirming that points \n",
    "# of order 3 and 5 belonging to the kernel of the 15-rational isogeny are already defined over Q."
   ]
  },
  {
   "cell_type": "code",
   "execution_count": 13,
   "id": "14d0ad5d-127a-44c5-a554-598f943d8c80",
   "metadata": {},
   "outputs": [],
   "source": [
    "# Define the elliptic curve E = 50b3\n",
    "E_50b3 = EllipticCurve([1, 1, 1, -3, 1])\n",
    "E = E_50b3\n"
   ]
  },
  {
   "cell_type": "code",
   "execution_count": 14,
   "id": "34e1f250-f835-4443-886c-39cd67d02fdb",
   "metadata": {},
   "outputs": [
    {
     "name": "stdout",
     "output_type": "stream",
     "text": [
      "3-division polynomial:\n",
      "3*x^4 + 5*x^3 - 15*x^2 + 15*x\n",
      "\n",
      "Factorization of ψ₃ (order 3):\n",
      "(3) * x * (x^3 + 5/3*x^2 - 5*x + 5)\n",
      "\n",
      "5-division polynomial:\n",
      "5*x^12 + 25*x^11 - 130*x^10 + 225*x^9 + 1125*x^8 - 750*x^7 + 1500*x^6 - 5750*x^5 + 4375*x^4 + 3125*x^3 - 6250*x^2 + 3125*x - 625\n",
      "\n",
      "Factorization of ψ₅ (order 5):\n",
      "(5) * (x - 1) * (x + 1) * (x^10 + 5*x^9 - 25*x^8 + 50*x^7 + 200*x^6 - 100*x^5 + 500*x^4 - 1250*x^3 + 1375*x^2 - 625*x + 125)\n"
     ]
    }
   ],
   "source": [
    "# 3-division polynomial and its factorization\n",
    "psi_3 = E.division_polynomial(3)\n",
    "print(\"3-division polynomial:\")\n",
    "print(psi_3)\n",
    "print(\"\\nFactorization of ψ₃ (order 3):\")\n",
    "print(psi_3.factor())\n",
    "\n",
    "# 5-division polynomial and its factorization\n",
    "psi_5 = E.division_polynomial(5)\n",
    "print(\"\\n5-division polynomial:\")\n",
    "print(psi_5)\n",
    "print(\"\\nFactorization of ψ₅ (order 5):\")\n",
    "print(psi_5.factor())\n"
   ]
  },
  {
   "cell_type": "code",
   "execution_count": 15,
   "id": "d73e178b-2a9b-40eb-9f21-36ccb4fb44aa",
   "metadata": {},
   "outputs": [
    {
     "name": "stdout",
     "output_type": "stream",
     "text": [
      "Factorization of 15-division polynomial:\n",
      "Degree 1: x - 1\n",
      "Degree 1: x\n",
      "Degree 1: x + 1\n",
      "Degree 2: x^2 - 10*x + 5\n",
      "Degree 2: x^2 - 5\n",
      "Degree 3: x^3 + 5/3*x^2 - 5*x + 5\n",
      "Degree 6: x^6 + 5*x^4 + 10*x^3 + 25*x^2 - 50*x + 25\n",
      "Degree 6: x^6 + 10*x^5 + 75*x^4 - 40*x^3 + 75*x^2 - 50*x + 25\n",
      "Degree 10: x^10 + 5*x^9 - 25*x^8 + 50*x^7 + 200*x^6 - 100*x^5 + 500*x^4 - 1250*x^3 + 1375*x^2 - 625*x + 125\n",
      "Degree 20: x^20 + 10*x^19 + 350*x^18 + 1725*x^17 + 6275*x^16 + 10550*x^15 - 17750*x^14 - 73750*x^13 + 262500*x^12 - 128750*x^11 - 611250*x^10 + 912500*x^9 + 875000*x^8 - 3468750*x^7 + 4468750*x^6 - 3656250*x^5 + 2421875*x^4 - 1562500*x^3 + 937500*x^2 - 390625*x + 78125\n",
      "Degree 60: x^60 + 30*x^59 - 2400*x^58 + 55300*x^57 + 1203575*x^56 - 12133100*x^55 + 28128500*x^54 + 587805000*x^53 - 1147109375*x^52 - 4554353750*x^51 + 89514132500*x^50 - 226261187500*x^49 - 3613786015625*x^48 + 9045856925000*x^47 + 56150384875000*x^46 - 97649126050000*x^45 - 462771867296875*x^44 + 405454757968750*x^43 + 3366113116875000*x^42 - 1897376949687500*x^41 - 21665579246328125*x^40 + 43148015917187500*x^39 + 21118242960937500*x^38 - 344896027390625000*x^37 + 925613685876953125*x^36 + 54372191128906250*x^35 - 5747744564414062500*x^34 + 10540824157226562500*x^33 + 5026625648857421875*x^32 - 42374498653906250000*x^31 + 48842272928281250000*x^30 + 28239576857812500000*x^29 - 125919817346923828125*x^28 + 92207963439941406250*x^27 + 78614137027343750000*x^26 - 129741077122070312500*x^25 - 122005834783935546875*x^24 + 358660155151367187500*x^23 - 37857799926757812500*x^22 - 747734704345703125000*x^21 + 1123971764129638671875*x^20 - 520964865051269531250*x^19 - 452912166137695312500*x^18 + 701275442749023437500*x^17 + 27944243927001953125*x^16 - 962914918701171875000*x^15 + 1312072567138671875000*x^14 - 1010037121582031250000*x^13 + 496960860443115234375*x^12 - 140283250427246093750*x^11 + 5188885498046875000*x^10 + 9994491577148437500*x^9 + 1306552886962890625*x^8 - 5873336791992187500*x^7 + 4208145141601562500*x^6 - 1807708740234375000*x^5 + 543880462646484375*x^4 - 119209289550781250*x^3 + 18692016601562500*x^2 - 1907348632812500*x + 95367431640625\n",
      "\n",
      "Discriminants of the quadratic factors:\n",
      "Quadratic factor 1: Discriminant = 80\n",
      "Quadratic factor 2: Discriminant = 20\n"
     ]
    }
   ],
   "source": [
    "# Compute and factor the 15-division polynomial\n",
    "psi_15 = E.division_polynomial(15)\n",
    "factors_15 = psi_15.factor()\n",
    "\n",
    "# Display all factors and identify the quadratic ones\n",
    "print(\"Factorization of 15-division polynomial:\")\n",
    "quad_factors = []\n",
    "for f, e in factors_15:\n",
    "    deg = f.degree()\n",
    "    print(f\"Degree {deg}: {f}\")\n",
    "    if deg == 2:\n",
    "        quad_factors.append(f)\n",
    "\n",
    "# If desired, inspect discriminants to study ramification\n",
    "print(\"\\nDiscriminants of the quadratic factors:\")\n",
    "for i, f in enumerate(quad_factors):\n",
    "    D = f.discriminant()\n",
    "    print(f\"Quadratic factor {i+1}: Discriminant = {D}\")"
   ]
  },
  {
   "cell_type": "code",
   "execution_count": 16,
   "id": "a2730aa4-0bf1-4340-8180-1cc400a50fb9",
   "metadata": {},
   "outputs": [],
   "source": [
    "# These two quadratic polynomials represent possible minimal polynomials of the x-coordinate of \n",
    "# the generator of the kernel of the 15-isogeny.\n",
    "\n",
    "# Their discriminants are **80** and **20**, both divisible by 5 but **not by 25**, so **5 ramifies** in \n",
    "# both corresponding quadratic fields.\n"
   ]
  },
  {
   "cell_type": "code",
   "execution_count": 17,
   "id": "b24d421d-b9e9-416b-b5d2-4451221c6bf2",
   "metadata": {},
   "outputs": [],
   "source": [
    "## Example: Curve 50b4 and the Field of Definition of a 15-Isogeny Kernel\n",
    "\n",
    "# We analyze the elliptic curve `E_50b4 = [1, 1, 1, 22, -9]`, which has a rational 15-isogeny.\n",
    "# Its 3 and 5-division polynomials have rational roots, so Q-rational torsion points of \n",
    "# orders 3 and 5 are already present.\n",
    "\n",
    "# We compute and factor the 15-division polynomial. Among its irreducible factors, we identify:\n",
    "# Several linear factors coming from 3- and 5-torsion points.\n",
    "# Two quadratic factors, either of which defines a degree-2 extension over which a generator of the \n",
    "# kernel of the 15-isogeny may be defined.\n",
    "\n",
    "# This shows that the x-coordinate of the kernel generator lies in a quadratic extension of Q."
   ]
  },
  {
   "cell_type": "code",
   "execution_count": 18,
   "id": "3f9d41b1-8a40-4f3a-aecc-ff0f917726ea",
   "metadata": {},
   "outputs": [],
   "source": [
    "# The 3-division and 5-division polynomials each have linear factors, confirming that points \n",
    "# of order 3 and 5 belonging to the kernel of the 15-rational isogeny are already defined over Q."
   ]
  },
  {
   "cell_type": "code",
   "execution_count": 19,
   "id": "290f674c-6d7f-462a-a5f4-e2037f621099",
   "metadata": {},
   "outputs": [],
   "source": [
    "# Define the elliptic curve E = 50b4\n",
    "E_50b4 = EllipticCurve([1, 1, 1, 22, -9])\n",
    "E = E_50b4\n"
   ]
  },
  {
   "cell_type": "code",
   "execution_count": 20,
   "id": "722b6acb-f2fe-43c9-8487-0c7362692c18",
   "metadata": {},
   "outputs": [
    {
     "name": "stdout",
     "output_type": "stream",
     "text": [
      "3-division polynomial:\n",
      "3*x^4 + 5*x^3 + 135*x^2 - 105*x - 550\n",
      "\n",
      "Factorization of ψ₃ (order 3):\n",
      "(3) * (x + 5/3) * (x^3 + 45*x - 110)\n",
      "\n",
      "5-division polynomial:\n",
      "5*x^12 + 25*x^11 + 1420*x^10 - 1075*x^9 - 65625*x^8 - 294750*x^7 - 3819000*x^6 - 2684750*x^5 - 39073125*x^4 - 41146875*x^3 - 304962500*x^2 + 257490625*x + 134555625\n",
      "\n",
      "Factorization of ψ₅ (order 5):\n",
      "(5) * (x - 9) * (x - 1) * (x^10 + 15*x^9 + 425*x^8 + 3900*x^7 + 22050*x^6 + 126450*x^5 + 302250*x^4 + 1347500*x^3 + 2940125*x^2 + 9044375*x + 2990125)\n"
     ]
    }
   ],
   "source": [
    "# 3-division polynomial and its factorization\n",
    "psi_3 = E.division_polynomial(3)\n",
    "print(\"3-division polynomial:\")\n",
    "print(psi_3)\n",
    "print(\"\\nFactorization of ψ₃ (order 3):\")\n",
    "print(psi_3.factor())\n",
    "\n",
    "# 5-division polynomial and its factorization\n",
    "psi_5 = E.division_polynomial(5)\n",
    "print(\"\\n5-division polynomial:\")\n",
    "print(psi_5)\n",
    "print(\"\\nFactorization of ψ₅ (order 5):\")\n",
    "print(psi_5.factor())\n"
   ]
  },
  {
   "cell_type": "code",
   "execution_count": 21,
   "id": "b6acfc2a-9708-45a1-b926-be201de11847",
   "metadata": {},
   "outputs": [
    {
     "name": "stdout",
     "output_type": "stream",
     "text": [
      "Factorization of 15-division polynomial:\n",
      "Degree 1: x - 9\n",
      "Degree 1: x - 1\n",
      "Degree 1: x + 5/3\n",
      "Degree 2: x^2 + 15\n",
      "Degree 2: x^2 + 10*x + 85\n",
      "Degree 3: x^3 + 45*x - 110\n",
      "Degree 6: x^6 - 90*x^5 + 195*x^4 - 1820*x^3 + 5175*x^2 + 19350*x + 42725\n",
      "Degree 6: x^6 - 315*x^4 - 2920*x^3 - 4725*x^2 - 17400*x + 8975\n",
      "Degree 10: x^10 + 15*x^9 + 425*x^8 + 3900*x^7 + 22050*x^6 + 126450*x^5 + 302250*x^4 + 1347500*x^3 + 2940125*x^2 + 9044375*x + 2990125\n",
      "Degree 20: x^20 + 30*x^19 - 2300*x^18 + 58050*x^17 + 988975*x^16 - 7110600*x^15 + 111504000*x^14 - 236495000*x^13 + 4379976250*x^12 + 2258242500*x^11 + 132153505000*x^10 - 78265862500*x^9 + 136115968750*x^8 - 2769155625000*x^7 - 15558183500000*x^6 + 107278719125000*x^5 - 124698156796875*x^4 + 404115180468750*x^3 - 461115344687500*x^2 + 486922944531250*x - 112897537578125\n",
      "Degree 60: x^60 + 90*x^59 + 29550*x^58 + 1521525*x^57 + 77634675*x^56 + 2312659950*x^55 + 50028810250*x^54 + 675507600000*x^53 + 16860637096875*x^52 + 174428316817500*x^51 + 3223733262997500*x^50 + 15119324334515625*x^49 + 497519983124140625*x^48 + 2566278675512212500*x^47 + 89298090570108937500*x^46 + 784522746240850975000*x^45 + 13089945726884513390625*x^44 + 115894550523530996718750*x^43 + 1245946005869218158906250*x^42 + 8721072099293190663515625*x^41 + 68514150906301057823671875*x^40 + 381228777096806953416406250*x^39 + 2557028045359798397261718750*x^38 + 13232448225154591841203125000*x^37 + 88655695111400139848357421875*x^36 + 525752117522028805778296875000*x^35 + 3706665772464863524170000000000*x^34 + 23996058583208100871430517578125*x^33 + 158370614358723339586424384765625*x^32 + 926842479187259261460216796875000*x^31 + 5345143206997742812452019765625000*x^30 + 26813071770101452835132196093750000*x^29 + 136528583296080048079288061279296875*x^28 + 601046106186986875477574099121093750*x^27 + 2754543801168704631655613641113281250*x^26 + 10824537017813103723361638425537109375*x^25 + 44129970220156458769794400445556640625*x^24 + 150669348253034797374036968078613281250*x^23 + 527168188519468369534305937829589843750*x^22 + 1477685317431870081942498021972656250000*x^21 + 4356116013417635273124146041021728515625*x^20 + 9635916855642166007499575971069335937500*x^19 + 25054047453453421642401706139526367187500*x^18 + 45718489149615951745616414670135498046875*x^17 + 107095322947513427656118176534881591796875*x^16 + 180069725044852232192814544699340820312500*x^15 + 301504678774692024236400333495483398437500*x^14 + 398531543226225239659906338885498046875000*x^13 + 787900111975710823658838462371063232421875*x^12 - 1633326189054935978541299736882019042968750*x^11 + 6470832154259616004126430564488220214843750*x^10 - 7980043985703715615099056534564971923828125*x^9 + 12013816490013998475588076749515533447265625*x^8 + 4686410175836625446567562094688415527343750*x^7 + 9506064070378769416944795867195129394531250*x^6 - 6213870893801319764792255407562255859375000*x^5 + 7588311646147291780622512152957916259765625*x^4 - 10708599625934196172266578758239746093750000*x^3 + 8275039589639430813480027394866943359375000*x^2 - 2142965315929429845402005514621734619140625*x + 576997128485671211522327828502655029296875\n",
      "\n",
      "Discriminants of the quadratic factors:\n",
      "Quadratic factor 1: Discriminant = -60\n",
      "Quadratic factor 2: Discriminant = -240\n"
     ]
    }
   ],
   "source": [
    "# Compute and factor the 15-division polynomial\n",
    "psi_15 = E.division_polynomial(15)\n",
    "factors_15 = psi_15.factor()\n",
    "\n",
    "# Display all factors and identify the quadratic ones\n",
    "print(\"Factorization of 15-division polynomial:\")\n",
    "quad_factors = []\n",
    "for f, e in factors_15:\n",
    "    deg = f.degree()\n",
    "    print(f\"Degree {deg}: {f}\")\n",
    "    if deg == 2:\n",
    "        quad_factors.append(f)\n",
    "\n",
    "# If desired, inspect discriminants to study ramification\n",
    "print(\"\\nDiscriminants of the quadratic factors:\")\n",
    "for i, f in enumerate(quad_factors):\n",
    "    D = f.discriminant()\n",
    "    print(f\"Quadratic factor {i+1}: Discriminant = {D}\")"
   ]
  },
  {
   "cell_type": "code",
   "execution_count": 22,
   "id": "f6f42244-a564-4996-82fb-707bc423f5aa",
   "metadata": {},
   "outputs": [],
   "source": [
    "# These two quadratic polynomials represent possible minimal polynomials of the x-coordinate of \n",
    "# the generator of the kernel of the 15-isogeny.\n",
    "\n",
    "# Their discriminants are **-60** and **-240**, both divisible by 5 but **not by 25**, so **5 ramifies** in \n",
    "# both corresponding quadratic fields.\n"
   ]
  },
  {
   "cell_type": "code",
   "execution_count": null,
   "id": "3526e8b4-4855-4956-a5b5-0651968692c0",
   "metadata": {},
   "outputs": [],
   "source": []
  }
 ],
 "metadata": {
  "kernelspec": {
   "display_name": "SageMath 10.7.beta5",
   "language": "sage",
   "name": "sagemath"
  },
  "language_info": {
   "codemirror_mode": {
    "name": "ipython",
    "version": 3
   },
   "file_extension": ".py",
   "mimetype": "text/x-python",
   "name": "python",
   "nbconvert_exporter": "python",
   "pygments_lexer": "ipython3",
   "version": "3.12.5"
  }
 },
 "nbformat": 4,
 "nbformat_minor": 5
}
