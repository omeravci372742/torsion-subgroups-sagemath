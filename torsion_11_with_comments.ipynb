{
 "cells": [
  {
   "cell_type": "code",
   "execution_count": 1,
   "id": "7d6201d5-7bc9-4fc9-ba29-00bd89f6af69",
   "metadata": {},
   "outputs": [],
   "source": [
    "# Define the base field K as the 11th cyclotomic field Q(zeta_11)\n",
    "K = CyclotomicField(11)\n",
    "\n",
    "# Define the elliptic curve labeled 121c1 over the field K\n --- it is the minimal quadratic twist of its j-invariant",
    "E_121c1 = EllipticCurve(K, [1, 1, 0, -3632, 82757])\n",
    "\n",
    "# Define the elliptic curve labeled 121b2 over the field K\n --- it is  $-11$-quadratic twist of its j-invariant",
    "E_121b2 = EllipticCurve(K, [0, -1, 1, -7, 10])\n",
    "\n",
    "# Define the elliptic curve labeled 121a1 over the field K\n --- it is the minimal quadratic twist of its j-invariant",
    "E_121a1 = EllipticCurve(K, [1, 1, 1, -305, 7888])"
   ]
  },
  {
   "cell_type": "code",
   "execution_count": 2,
   "id": "151b9b21-ec7f-4ffa-9639-8409758ac927",
   "metadata": {},
   "outputs": [],
   "source": [
    "# Compute the torsion subgroup of each elliptic curve over K\n"
   ]
  },
  {
   "cell_type": "code",
   "execution_count": 3,
   "id": "36d37809-a344-41d5-9e75-39abdc7518d4",
   "metadata": {},
   "outputs": [
    {
     "data": {
      "text/plain": [
       "Torsion Subgroup isomorphic to Z/11 associated to the Elliptic Curve defined by y^2 + x*y = x^3 + x^2 + (-3632)*x + 82757 over Cyclotomic Field of order 11 and degree 10"
      ]
     },
     "execution_count": 3,
     "metadata": {},
     "output_type": "execute_result"
    }
   ],
   "source": [
    "E_121c1.torsion_subgroup()"
   ]
  },
  {
   "cell_type": "code",
   "execution_count": 4,
   "id": "1dc078cf-240a-4451-9467-46cc1e8bfb5d",
   "metadata": {},
   "outputs": [
    {
     "data": {
      "text/plain": [
       "Torsion Subgroup isomorphic to Z/11 associated to the Elliptic Curve defined by y^2 + y = x^3 + (-1)*x^2 + (-7)*x + 10 over Cyclotomic Field of order 11 and degree 10"
      ]
     },
     "execution_count": 4,
     "metadata": {},
     "output_type": "execute_result"
    }
   ],
   "source": [
    "E_121b2.torsion_subgroup()\n"
   ]
  },
  {
   "cell_type": "code",
   "execution_count": 5,
   "id": "a54c860a-3c64-4bd0-8ce9-833e3a650b91",
   "metadata": {},
   "outputs": [
    {
     "data": {
      "text/plain": [
       "Torsion Subgroup isomorphic to Z/11 associated to the Elliptic Curve defined by y^2 + x*y + y = x^3 + x^2 + (-305)*x + 7888 over Cyclotomic Field of order 11 and degree 10"
      ]
     },
     "execution_count": 5,
     "metadata": {},
     "output_type": "execute_result"
    }
   ],
   "source": [
    "E_121a1.torsion_subgroup()\n"
   ]
  },
  {
   "cell_type": "code",
   "execution_count": 6,
   "id": "6cea15c7-c1b1-4f9c-bd43-3d2e9f7236b9",
   "metadata": {},
   "outputs": [],
   "source": [
    "# We can see that our three rational elliptic curves with a rational 11-isogeny have 11-torsion defined over Q(zeta_11)\n"
   ]
  },
  {
   "cell_type": "code",
   "execution_count": null,
   "id": "e5f83944-b705-4506-8a2d-163ac46b5ec9",
   "metadata": {},
   "outputs": [],
   "source": []
  }
 ],
 "metadata": {
  "kernelspec": {
   "display_name": "SageMath 10.7.beta5",
   "language": "sage",
   "name": "sagemath"
  },
  "language_info": {
   "codemirror_mode": {
    "name": "ipython",
    "version": 3
   },
   "file_extension": ".py",
   "mimetype": "text/x-python",
   "name": "python",
   "nbconvert_exporter": "python",
   "pygments_lexer": "ipython3",
   "version": "3.12.5"
  }
 },
 "nbformat": 4,
 "nbformat_minor": 5
}
