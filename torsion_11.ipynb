{
 "cells": [
  {
   "cell_type": "code",
   "execution_count": 9,
   "id": "4f88745b-c7e7-451a-a2d2-03352a988db6",
   "metadata": {},
   "outputs": [],
   "source": [
    "K = CyclotomicField(11) \n",
    "E_121c1 = EllipticCurve(K,[1, 1, 0, -3632, 82757])\n",
    "E_121b2 = EllipticCurve(K,[0, -1, 1, -7, 10])\n",
    "E_121a1 = EllipticCurve(K,[1, 1, 1, -305, 7888])"
   ]
  },
  {
   "cell_type": "code",
   "execution_count": 10,
   "id": "c677455f-3d79-43f6-9bf2-4e875b4d939d",
   "metadata": {},
   "outputs": [
    {
     "data": {
      "text/plain": [
       "Torsion Subgroup isomorphic to Z/11 associated to the Elliptic Curve defined by y^2 + x*y = x^3 + x^2 + (-3632)*x + 82757 over Cyclotomic Field of order 11 and degree 10"
      ]
     },
     "execution_count": 10,
     "metadata": {},
     "output_type": "execute_result"
    }
   ],
   "source": [
    "E_121c1.torsion_subgroup()"
   ]
  },
  {
   "cell_type": "code",
   "execution_count": 11,
   "id": "f6b9aba3-c38e-4dc2-a900-9463b0be55d7",
   "metadata": {},
   "outputs": [
    {
     "data": {
      "text/plain": [
       "Torsion Subgroup isomorphic to Z/11 associated to the Elliptic Curve defined by y^2 + y = x^3 + (-1)*x^2 + (-7)*x + 10 over Cyclotomic Field of order 11 and degree 10"
      ]
     },
     "execution_count": 11,
     "metadata": {},
     "output_type": "execute_result"
    }
   ],
   "source": [
    "E_121b2.torsion_subgroup()"
   ]
  },
  {
   "cell_type": "code",
   "execution_count": 12,
   "id": "804430b0-e3e4-4d5f-b0cb-ef8555c843b5",
   "metadata": {},
   "outputs": [
    {
     "data": {
      "text/plain": [
       "Torsion Subgroup isomorphic to Z/11 associated to the Elliptic Curve defined by y^2 + x*y + y = x^3 + x^2 + (-305)*x + 7888 over Cyclotomic Field of order 11 and degree 10"
      ]
     },
     "execution_count": 12,
     "metadata": {},
     "output_type": "execute_result"
    }
   ],
   "source": [
    "E_121a1.torsion_subgroup()"
   ]
  }
 ],
 "metadata": {
  "kernelspec": {
   "display_name": "SageMath 10.7.beta5",
   "language": "sage",
   "name": "sagemath"
  },
  "language_info": {
   "codemirror_mode": {
    "name": "ipython",
    "version": 3
   },
   "file_extension": ".py",
   "mimetype": "text/x-python",
   "name": "python",
   "nbconvert_exporter": "python",
   "pygments_lexer": "ipython3",
   "version": "3.12.5"
  }
 },
 "nbformat": 4,
 "nbformat_minor": 5
}
