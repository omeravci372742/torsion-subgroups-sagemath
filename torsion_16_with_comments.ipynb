{
 "cells": [
  {
   "cell_type": "code",
   "execution_count": 1,
   "id": "5d0f2710-0c24-4c71-a59c-22cda93b2406",
   "metadata": {},
   "outputs": [],
   "source": [
    "## Torsion Growth over $\\mathbb{Q}(\\sqrt{41})$ for Elliptic Curve 266910ck6\n",
    "\n",
    "# We investigate the torsion subgroup of the elliptic curve `266910ck6` over the quadratic field $\\mathbb{Q}(\\sqrt{41})$.\n",
    "# Our goal is to verify that the torsion subgroup of this curve over $\\mathbb{Q}(\\sqrt{41})$ is isomorphic to $\\mathbb{Z}/16\\mathbb{Z}$.\n"
   ]
  },
  {
   "cell_type": "code",
   "execution_count": 2,
   "id": "fc9249d8-2e85-46ea-abcc-e09ea456873d",
   "metadata": {},
   "outputs": [],
   "source": [
    "# Define the quadratic field Q(sqrt(41))\n",
    "R.<x> = QQ[]\n",
    "f = x^2 - 41\n",
    "K.<a> = f.splitting_field()"
   ]
  },
  {
   "cell_type": "code",
   "execution_count": 3,
   "id": "55e13712-0af6-40f9-8b7a-9e01876438eb",
   "metadata": {},
   "outputs": [
    {
     "data": {
      "text/plain": [
       "Torsion Subgroup isomorphic to Z/16 associated to the Elliptic Curve defined by y^2 + x*y = x^3 + (-8184310140)*x + 326543733507600 over Number Field in a with defining polynomial x^2 - 41"
      ]
     },
     "execution_count": 3,
     "metadata": {},
     "output_type": "execute_result"
    }
   ],
   "source": [
    "# Define our elliptic curve over K to calculate its torsion subgroup over K\n",
    "E_266910ck6 = EllipticCurve(K,[1, 0, 0, -8184310140, 326543733507600])\n",
    "E = E_266910ck6\n",
    "E.torsion_subgroup()"
   ]
  },
  {
   "cell_type": "code",
   "execution_count": null,
   "id": "9e5b8e76-bfd2-443c-a06f-97b895719f8b",
   "metadata": {},
   "outputs": [],
   "source": []
  }
 ],
 "metadata": {
  "kernelspec": {
   "display_name": "SageMath 10.7.beta5",
   "language": "sage",
   "name": "sagemath"
  },
  "language_info": {
   "codemirror_mode": {
    "name": "ipython",
    "version": 3
   },
   "file_extension": ".py",
   "mimetype": "text/x-python",
   "name": "python",
   "nbconvert_exporter": "python",
   "pygments_lexer": "ipython3",
   "version": "3.12.5"
  }
 },
 "nbformat": 4,
 "nbformat_minor": 5
}
