{
 "cells": [
  {
   "cell_type": "code",
   "execution_count": 1,
   "id": "3388c3df-84a0-4117-a365-4324966fca55",
   "metadata": {},
   "outputs": [],
   "source": [
    "# ─────────────────────────────────────────────────────────────────────────────\n",
    "# We study the unique rational j-invariant admitting a 67-isogeny, and we work \n",
    "# with its minimal quadratic twist.\n",
    "\n",
    "# Our goal is to show that the field of definition of the 67-isogeny is a subfield \n",
    "# of Q(zeta_67), the 67th cyclotomic field.\n",
    "\n",
    "# To do this, we factor the 67-division polynomial of the elliptic curve over Q(zeta_67).\n",
    "\n",
    "# If this polynomial has a root in Q(zeta_67), then the x-coordinate of a generator \n",
    "# of the kernel of the 67-isogeny is defined over this field.\n",
    "\n",
    "# Once we find such a root, we compute the corresponding y-coordinate on the curve, \n",
    "# construct the point, and verify its order — for completeness.\n",
    "# ─────────────────────────────────────────────────────────────────────────────\n"
   ]
  },
  {
   "cell_type": "code",
   "execution_count": 2,
   "id": "ad5257b5-3a59-45a2-a431-5dc3536007c6",
   "metadata": {},
   "outputs": [],
   "source": [
    "# We start by factorizing the 67-division polynomial over Q.\n",
    "\n",
    "# We will get two irreducible factors: one of degree 33 and degree 2211.\n",
    "\n",
    "# We know that the field of definition of the kernel of the 67-isogeny is Galois\n",
    "# and its Galois group is isomorphic to a subgroup of Z/66Z = (Z/67Z)*\n",
    "\n",
    "# So the minimal polynomial of the x-coordinate of a point generating the 67-isogeny, \n",
    "# has a degree dividing 66. Hence, we must work with degree 33 factor. \n",
    "\n",
    "# We will then factor this degree 33 polynomial over Q(zeta_67) to find roots and continue as before."
   ]
  },
  {
   "cell_type": "code",
   "execution_count": 3,
   "id": "8dc8f9e8-be36-425d-b540-d7004880098d",
   "metadata": {},
   "outputs": [
    {
     "name": "stdout",
     "output_type": "stream",
     "text": [
      "Degrees of irreducible factors of the 67-division polynomial over Q:\n",
      "[33, 2211]\n",
      "\n",
      "Degree 33 factor polynomial:\n",
      "x^33 - 2546*x^32 + 2649247*x^31 - 1595291842*x^30 + 640348896539*x^29 - 184253611923904*x^28 + 39510232802557718*x^27 - 6410867835187893127*x^26 + 777889689833250785627*x^25 - 65753617235862874562363*x^24 + 2665376764566205755131386*x^23 + 224624674126473174518701681*x^22 - 57499834498241686961815567932*x^21 + 6498340004208428725812074814882*x^20 - 494624293589288751051298289017859*x^19 + 25957216907649962515771432250558117*x^18 - 737300932123173368936091692964120779*x^17 - 18673465964555838152080088863869343413*x^16 + 3982226256724729369657726858045969934518*x^15 - 297241159711145894585208225854237573839212*x^14 + 15302398104577546280070801623351769789679589*x^13 - 603821880748687768592666937974993829522291592*x^12 + 18746518151806629074828169624747001744170025840*x^11 - 454049187145266464958957924888252972635939272305*x^10 + 8158899886369573637516397638610796130585015395462*x^9 - 90518122926725311334202042278153526052702720644243*x^8 - 88602715854562730530381942532238574486674897032159*x^7 + 29538089522615801104551289493626919072944395256348431*x^6 - 729194921188843357205207957768326321766958432731831809*x^5 + 10829332229673947961792361795296021760140934355272515866*x^4 - 109052668329810506035001281351465097075234536606899255855*x^3 + 735803717280674204938155090465839470225425518056788304413*x^2 - 3029074182392786437303454141383747830331561654660176389989*x + 5780863640355951803541251725582920831821078132070031269809\n"
     ]
    }
   ],
   "source": [
    "# Define the elliptic curve E = 4489b2\n",
    "E_4489b2 = EllipticCurve([0, 0, 1, -7370, 243528])\n",
    "E = E_4489b2\n",
    "\n",
    "# Compute 67-division polynomial over Q\n",
    "psi_67 = E.division_polynomial(67)\n",
    "R.<x> = PolynomialRing(QQ)\n",
    "factors = R(psi_67).factor()\n",
    "\n",
    "# Print degrees of all irreducible factors\n",
    "print(\"Degrees of irreducible factors of the 67-division polynomial over Q:\")\n",
    "degrees = [f.degree() for f, e in factors]\n",
    "print(degrees)\n",
    "\n",
    "# Extract and print the degree 33 factor (likely minimal polynomial for 67-isogeny kernel)\n",
    "f33 = [f for f, e in factors if f.degree() == 33][0]\n",
    "print(\"\\nDegree 33 factor polynomial:\")\n",
    "print(f33)\n"
   ]
  },
  {
   "cell_type": "code",
   "execution_count": 4,
   "id": "1e8b9908-740f-4c7c-865b-0ea9a818894f",
   "metadata": {},
   "outputs": [
    {
     "name": "stdout",
     "output_type": "stream",
     "text": [
      "Factor degrees over Q(zeta_67):\n",
      "Degree 1\n",
      "Degree 1\n",
      "Degree 1\n",
      "Degree 1\n",
      "Degree 1\n",
      "Degree 1\n",
      "Degree 1\n",
      "Degree 1\n",
      "Degree 1\n",
      "Degree 1\n",
      "Degree 1\n",
      "Degree 1\n",
      "Degree 1\n",
      "Degree 1\n",
      "Degree 1\n",
      "Degree 1\n",
      "Degree 1\n",
      "Degree 1\n",
      "Degree 1\n",
      "Degree 1\n",
      "Degree 1\n",
      "Degree 1\n",
      "Degree 1\n",
      "Degree 1\n",
      "Degree 1\n",
      "Degree 1\n",
      "Degree 1\n",
      "Degree 1\n",
      "Degree 1\n",
      "Degree 1\n",
      "Degree 1\n",
      "Degree 1\n",
      "Degree 1\n",
      "\n",
      "Found x-coordinate of point in kernel: x = -10*z^64 - 18*z^63 - 15*z^62 - 25*z^61 - 36*z^60 - 52*z^59 - 56*z^58 - 41*z^57 - 43*z^56 - 51*z^55 - 58*z^54 - 51*z^53 - 32*z^52 - 26*z^51 - 15*z^50 - 8*z^49 - 10*z^48 - 10*z^47 - 4*z^46 + 14*z^45 + 14*z^44 + 2*z^43 - 9*z^42 - 20*z^41 - 14*z^40 - 19*z^39 - 36*z^38 - 46*z^37 - 50*z^36 - 48*z^35 - 57*z^34 - 57*z^33 - 48*z^32 - 50*z^31 - 46*z^30 - 36*z^29 - 19*z^28 - 14*z^27 - 20*z^26 - 9*z^25 + 2*z^24 + 14*z^23 + 14*z^22 - 4*z^21 - 10*z^20 - 10*z^19 - 8*z^18 - 15*z^17 - 26*z^16 - 32*z^15 - 51*z^14 - 58*z^13 - 51*z^12 - 43*z^11 - 41*z^10 - 56*z^9 - 52*z^8 - 36*z^7 - 25*z^6 - 15*z^5 - 18*z^4 - 10*z^3 + 52\n",
      "Point on E: (-10*z^64 - 18*z^63 - 15*z^62 - 25*z^61 - 36*z^60 - 52*z^59 - 56*z^58 - 41*z^57 - 43*z^56 - 51*z^55 - 58*z^54 - 51*z^53 - 32*z^52 - 26*z^51 - 15*z^50 - 8*z^49 - 10*z^48 - 10*z^47 - 4*z^46 + 14*z^45 + 14*z^44 + 2*z^43 - 9*z^42 - 20*z^41 - 14*z^40 - 19*z^39 - 36*z^38 - 46*z^37 - 50*z^36 - 48*z^35 - 57*z^34 - 57*z^33 - 48*z^32 - 50*z^31 - 46*z^30 - 36*z^29 - 19*z^28 - 14*z^27 - 20*z^26 - 9*z^25 + 2*z^24 + 14*z^23 + 14*z^22 - 4*z^21 - 10*z^20 - 10*z^19 - 8*z^18 - 15*z^17 - 26*z^16 - 32*z^15 - 51*z^14 - 58*z^13 - 51*z^12 - 43*z^11 - 41*z^10 - 56*z^9 - 52*z^8 - 36*z^7 - 25*z^6 - 15*z^5 - 18*z^4 - 10*z^3 + 52, 9*z^65 + 102*z^64 + 373*z^63 + 824*z^62 + 1077*z^61 + 1270*z^60 + 1352*z^59 + 1520*z^58 + 1817*z^57 + 1870*z^56 + 1850*z^55 + 1640*z^54 + 1382*z^53 + 1269*z^52 + 1088*z^51 + 884*z^50 + 502*z^49 + 192*z^48 + 44*z^47 - 86*z^46 + 14*z^45 - 8*z^44 - 67*z^43 + 46*z^42 + 288*z^41 + 753*z^40 + 996*z^39 + 1146*z^38 + 1343*z^37 + 1451*z^36 + 1741*z^35 + 1938*z^34 + 1938*z^33 + 1741*z^32 + 1451*z^31 + 1343*z^30 + 1146*z^29 + 996*z^28 + 753*z^27 + 288*z^26 + 46*z^25 - 67*z^24 - 8*z^23 + 14*z^22 - 86*z^21 + 44*z^20 + 192*z^19 + 502*z^18 + 884*z^17 + 1088*z^16 + 1269*z^15 + 1382*z^14 + 1640*z^13 + 1850*z^12 + 1870*z^11 + 1817*z^10 + 1520*z^9 + 1352*z^8 + 1270*z^7 + 1077*z^6 + 824*z^5 + 373*z^4 + 102*z^3 + 9*z^2 + 78)\n",
      "Order of the point: 67\n"
     ]
    }
   ],
   "source": [
    "# Define cyclotomic field Q(zeta_67)\n",
    "K.<z> = CyclotomicField(67)\n",
    "RK.<x> = PolynomialRing(K)\n",
    "\n",
    "# Factor degree 33 polynomial over Q(zeta_67)\n",
    "f33_K = RK(f33)\n",
    "factors_over_K = f33_K.factor()\n",
    "\n",
    "print(\"Factor degrees over Q(zeta_67):\")\n",
    "for f, e in factors_over_K:\n",
    "    print(f\"Degree {f.degree()}\")\n",
    "\n",
    "# Find a linear factor to get a root (x-coordinate)\n",
    "linear_factors = [f for f, e in factors_over_K if f.degree() == 1]\n",
    "\n",
    "if not linear_factors:\n",
    "    print(\"No linear factor found over Q(zeta_67).\")\n",
    "else:\n",
    "    x0 = -linear_factors[0][0] / linear_factors[0][1]  # root of linear polynomial f = a*x + b -> -b/a\n",
    "    print(f\"\\nFound x-coordinate of point in kernel: x = {x0}\")\n",
    "\n",
    "    # Elliptic curve coefficients\n",
    "    a1, a2, a3, a4, a6 = E.a1(), E.a2(), E.a3(), E.a4(), E.a6()\n",
    "\n",
    "    # Compute RHS of the Weierstrass equation\n",
    "    rhs = x0^3 + a2*x0^2 + a4*x0 + a6\n",
    "\n",
    "    # Solve quadratic in y: y^2 + a1*x*y + a3*y = rhs\n",
    "    S.<y> = PolynomialRing(K)\n",
    "    quadratic = y^2 + a1*x0*y + a3*y - rhs\n",
    "    y_roots = quadratic.roots(multiplicities=False)\n",
    "\n",
    "    if not y_roots:\n",
    "        print(\"No y-coordinate found corresponding to x.\")\n",
    "    else:\n",
    "        y0 = y_roots[0]\n",
    "        P = E(K)([x0, y0])\n",
    "        print(f\"Point on E: ({x0}, {y0})\")\n",
    "\n",
    "        # Verify the order of the point\n",
    "        order = P.order()\n",
    "        print(f\"Order of the point: {order}\")\n"
   ]
  },
  {
   "cell_type": "code",
   "execution_count": 5,
   "id": "0d523cf4-c755-48df-a1f5-e5d6f5e1eced",
   "metadata": {},
   "outputs": [],
   "source": [
    "# We can see that 67-torsion is contained in E(Q(zeta_67))tors\n",
    "# This implies that E(Q(zeta_67))tors = Z/67Z must hold."
   ]
  },
  {
   "cell_type": "code",
   "execution_count": null,
   "id": "4a455ede-ba29-4e66-9138-68742ac1dc0f",
   "metadata": {},
   "outputs": [],
   "source": []
  }
 ],
 "metadata": {
  "kernelspec": {
   "display_name": "SageMath 10.7.beta5",
   "language": "sage",
   "name": "sagemath"
  },
  "language_info": {
   "codemirror_mode": {
    "name": "ipython",
    "version": 3
   },
   "file_extension": ".py",
   "mimetype": "text/x-python",
   "name": "python",
   "nbconvert_exporter": "python",
   "pygments_lexer": "ipython3",
   "version": "3.12.5"
  }
 },
 "nbformat": 4,
 "nbformat_minor": 5
}
