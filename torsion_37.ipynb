{
 "cells": [
  {
   "cell_type": "code",
   "execution_count": 1,
   "id": "06193d20-2f2e-40c4-9b4f-b72ee5ed242f",
   "metadata": {},
   "outputs": [],
   "source": [
    "E_1225b1 = EllipticCurve([1, 1, 1, -208083, -36621194])\n",
    "E = E_1225b1"
   ]
  },
  {
   "cell_type": "code",
   "execution_count": 2,
   "id": "d4a56e3b-c5fd-444b-b1a2-fdf673917b1b",
   "metadata": {},
   "outputs": [],
   "source": [
    "psi_37 = E.division_polynomial(37)"
   ]
  },
  {
   "cell_type": "code",
   "execution_count": 4,
   "id": "f620ddb8-969c-44b1-b37b-dd894d331c1a",
   "metadata": {},
   "outputs": [
    {
     "data": {
      "text/plain": [
       "x^18 + 4540*x^17 + 9432590*x^16 + 11849891575*x^15 + 9976762132800*x^14 + 5848587595725875*x^13 + 2353459307197093375*x^12 + 568092837455595073750*x^11 + 10497166901552517018750*x^10 - 58167719763827256503515625*x^9 - 29123957981672764259404562500*x^8 - 8642534874478733951747590312500*x^7 - 1813067882488802075989763827437500*x^6 - 280530629803275669434587526141796875*x^5 - 32092317459295198700901755629420390625*x^4 - 2653647761299569976280286239100456640625*x^3 - 150512357183694499353889242415640015234375*x^2 - 5251411022717638474379194466153432357421875*x - 3148881707222283483037230006935969560314453125/37"
      ]
     },
     "execution_count": 4,
     "metadata": {},
     "output_type": "execute_result"
    }
   ],
   "source": [
    "f = psi_37.factor()[0][0]\n",
    "f"
   ]
  },
  {
   "cell_type": "code",
   "execution_count": 5,
   "id": "e4dbe8bc-add3-4744-8c17-5d4bcff52899",
   "metadata": {},
   "outputs": [],
   "source": [
    "K = f.splitting_field('a')"
   ]
  },
  {
   "cell_type": "code",
   "execution_count": 6,
   "id": "b24d02aa-22b0-4552-8945-1a6768e74eba",
   "metadata": {},
   "outputs": [],
   "source": [
    "OK = K.ring_of_integers()"
   ]
  },
  {
   "cell_type": "code",
   "execution_count": 8,
   "id": "9f970b1a-1386-46d9-b1b7-64b4c4c504ef",
   "metadata": {},
   "outputs": [
    {
     "data": {
      "text/plain": [
       "5^9 * 7^12 * 37^17"
      ]
     },
     "execution_count": 8,
     "metadata": {},
     "output_type": "execute_result"
    }
   ],
   "source": [
    "disc = OK.discriminant()\n",
    "disc.factor()"
   ]
  },
  {
   "cell_type": "code",
   "execution_count": 9,
   "id": "08f8d033-96cb-47d6-90fc-965f188ad715",
   "metadata": {},
   "outputs": [
    {
     "data": {
      "text/plain": [
       "4"
      ]
     },
     "execution_count": 9,
     "metadata": {},
     "output_type": "execute_result"
    }
   ],
   "source": [
    "len(psi_37.factor())"
   ]
  },
  {
   "cell_type": "code",
   "execution_count": 10,
   "id": "a3a86baf-9baa-413a-b94b-cc9f765629d9",
   "metadata": {},
   "outputs": [
    {
     "data": {
      "text/plain": [
       "18"
      ]
     },
     "execution_count": 10,
     "metadata": {},
     "output_type": "execute_result"
    }
   ],
   "source": [
    "psi_37.factor()[0][0].degree()"
   ]
  },
  {
   "cell_type": "code",
   "execution_count": 11,
   "id": "e0640a4e-a882-48a9-93cc-4fce8acd4b07",
   "metadata": {},
   "outputs": [
    {
     "data": {
      "text/plain": [
       "222"
      ]
     },
     "execution_count": 11,
     "metadata": {},
     "output_type": "execute_result"
    }
   ],
   "source": [
    "psi_37.factor()[1][0].degree()"
   ]
  },
  {
   "cell_type": "code",
   "execution_count": 12,
   "id": "7d6d6f11-de4c-4824-a718-93afac4b8d9c",
   "metadata": {},
   "outputs": [
    {
     "data": {
      "text/plain": [
       "222"
      ]
     },
     "execution_count": 12,
     "metadata": {},
     "output_type": "execute_result"
    }
   ],
   "source": [
    "psi_37.factor()[2][0].degree()"
   ]
  },
  {
   "cell_type": "code",
   "execution_count": 13,
   "id": "d57958ee-692e-4ce8-a6ea-19168a7953f1",
   "metadata": {},
   "outputs": [
    {
     "data": {
      "text/plain": [
       "222"
      ]
     },
     "execution_count": 13,
     "metadata": {},
     "output_type": "execute_result"
    }
   ],
   "source": [
    "psi_37.factor()[3][0].degree()"
   ]
  },
  {
   "cell_type": "code",
   "execution_count": null,
   "id": "bdd85f4c-f886-455e-8578-06f45064b41b",
   "metadata": {},
   "outputs": [],
   "source": []
  }
 ],
 "metadata": {
  "kernelspec": {
   "display_name": "SageMath 10.7.beta5",
   "language": "sage",
   "name": "sagemath"
  },
  "language_info": {
   "codemirror_mode": {
    "name": "ipython",
    "version": 3
   },
   "file_extension": ".py",
   "mimetype": "text/x-python",
   "name": "python",
   "nbconvert_exporter": "python",
   "pygments_lexer": "ipython3",
   "version": "3.12.5"
  }
 },
 "nbformat": 4,
 "nbformat_minor": 5
}
